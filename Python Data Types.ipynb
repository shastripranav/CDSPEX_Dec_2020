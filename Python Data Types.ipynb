{
 "cells": [
  {
   "cell_type": "markdown",
   "metadata": {},
   "source": [
    "# 2.1.1 Python Data Types"
   ]
  },
  {
   "cell_type": "markdown",
   "metadata": {},
   "source": [
    "Data types are the classification or categorization of data items. Data types represent a kind of value which determines what operations can be performed on that data. Numeric, non-numeric and Boolean (true/false) data are the most used data types. However, each programming language has its own classification largely reflecting its programming philosophy."
   ]
  },
  {
   "cell_type": "markdown",
   "metadata": {},
   "source": [
    "Python has the following standard or built-in data types:\n",
    "\n",
    "Note: Python has an in-built function type() to ascertain the data type of a certain value."
   ]
  },
  {
   "cell_type": "markdown",
   "metadata": {},
   "source": [
    "# Numeric Data Types\n",
    "A numeric value is any representation of data which has a number value. Python identifies three types of numbers:"
   ]
  },
  {
   "cell_type": "markdown",
   "metadata": {},
   "source": [
    "__Integer:__ Positive or negative whole numbers (without a fractional part)"
   ]
  },
  {
   "cell_type": "code",
   "execution_count": 5,
   "metadata": {},
   "outputs": [
    {
     "name": "stdout",
     "output_type": "stream",
     "text": [
      "<class 'int'>\n"
     ]
    }
   ],
   "source": [
    "x=55\n",
    "print(type(x))"
   ]
  },
  {
   "cell_type": "markdown",
   "metadata": {},
   "source": [
    "__Float:__ Any real number with a floating point representation in which a fractional component is denoted by a decimal symbol or scientific notation\n"
   ]
  },
  {
   "cell_type": "code",
   "execution_count": 6,
   "metadata": {},
   "outputs": [
    {
     "name": "stdout",
     "output_type": "stream",
     "text": [
      "<class 'float'>\n"
     ]
    }
   ],
   "source": [
    "print(type(10.40))"
   ]
  },
  {
   "cell_type": "code",
   "execution_count": 7,
   "metadata": {},
   "outputs": [
    {
     "name": "stdout",
     "output_type": "stream",
     "text": [
      "10.4\n",
      "<class 'float'>\n"
     ]
    }
   ],
   "source": [
    "num = 104e-1\n",
    "print(num)\n",
    "print(type(num))"
   ]
  },
  {
   "cell_type": "markdown",
   "metadata": {},
   "source": [
    "__Complex number:__ A number with a real and imaginary component represented as x+yj. x and y are floats and j is -1 (square root of -1 called an imaginary number)"
   ]
  },
  {
   "cell_type": "code",
   "execution_count": 8,
   "metadata": {},
   "outputs": [
    {
     "name": "stdout",
     "output_type": "stream",
     "text": [
      "<class 'complex'>\n"
     ]
    }
   ],
   "source": [
    "print(type(3 + 2j))"
   ]
  },
  {
   "cell_type": "markdown",
   "metadata": {},
   "source": [
    "# Boolean Data Type"
   ]
  },
  {
   "cell_type": "markdown",
   "metadata": {},
   "source": [
    "Data with one of the two built-in values True or False. Notice that 'T' and 'F' are in uppercase. true and false are not valid booleans and Python will throw an error for them."
   ]
  },
  {
   "cell_type": "code",
   "execution_count": 19,
   "metadata": {},
   "outputs": [
    {
     "name": "stdout",
     "output_type": "stream",
     "text": [
      "True\n"
     ]
    }
   ],
   "source": [
    "(print(10.5 > 9))"
   ]
  },
  {
   "cell_type": "code",
   "execution_count": 6,
   "metadata": {},
   "outputs": [
    {
     "name": "stdout",
     "output_type": "stream",
     "text": [
      "False\n"
     ]
    }
   ],
   "source": [
    "print(10 < 9)"
   ]
  },
  {
   "cell_type": "markdown",
   "metadata": {},
   "source": [
    "# Sequence Data Types"
   ]
  },
  {
   "cell_type": "markdown",
   "metadata": {},
   "source": [
    "A sequence is an ordered collection of similar or different data types. Python has the following built-in sequence data types:"
   ]
  },
  {
   "cell_type": "markdown",
   "metadata": {},
   "source": [
    "__String:__ A string value is a collection of one or more characters put in single, double or triple quotes.\n",
    "Note: There is no character data type in Python. A character is stored as a string of length 1."
   ]
  },
  {
   "cell_type": "code",
   "execution_count": 10,
   "metadata": {},
   "outputs": [
    {
     "name": "stdout",
     "output_type": "stream",
     "text": [
      "<class 'str'>\n"
     ]
    }
   ],
   "source": [
    "print(type(\"hello\"))"
   ]
  },
  {
   "cell_type": "code",
   "execution_count": 11,
   "metadata": {},
   "outputs": [
    {
     "name": "stdout",
     "output_type": "stream",
     "text": [
      "<class 'str'>\n"
     ]
    }
   ],
   "source": [
    "print(type('c'))     # character stored as a string"
   ]
  },
  {
   "cell_type": "markdown",
   "metadata": {},
   "source": [
    "__List:__ A list object is an ordered collection of one or more data items, not necessarily of the same type, surrounded by square brackets."
   ]
  },
  {
   "cell_type": "code",
   "execution_count": 12,
   "metadata": {},
   "outputs": [
    {
     "name": "stdout",
     "output_type": "stream",
     "text": [
      "<class 'list'>\n"
     ]
    }
   ],
   "source": [
    "a_list = [1, 2, 3, 4]\n",
    "print(type(a_list))"
   ]
  },
  {
   "cell_type": "code",
   "execution_count": 23,
   "metadata": {},
   "outputs": [
    {
     "name": "stdout",
     "output_type": "stream",
     "text": [
      "1\n"
     ]
    }
   ],
   "source": [
    "print(a_list[0])    # Access list element"
   ]
  },
  {
   "cell_type": "code",
   "execution_count": 26,
   "metadata": {},
   "outputs": [
    {
     "name": "stdout",
     "output_type": "stream",
     "text": [
      "[1, 2, '3', 4, 10.0, 10.0]\n"
     ]
    }
   ],
   "source": [
    "a_list.append(10.0)    # Add element to list\n",
    "print(a_list)"
   ]
  },
  {
   "cell_type": "code",
   "execution_count": 27,
   "metadata": {},
   "outputs": [
    {
     "name": "stdout",
     "output_type": "stream",
     "text": [
      "['1', 2, '3', 4, 10.0, 10.0]\n"
     ]
    }
   ],
   "source": [
    "a_list[0] = \"1\"    # Modify list element\n",
    "print(a_list)"
   ]
  },
  {
   "cell_type": "code",
   "execution_count": 29,
   "metadata": {},
   "outputs": [
    {
     "name": "stdout",
     "output_type": "stream",
     "text": [
      "['3', 4, 10.0]\n"
     ]
    }
   ],
   "source": [
    "a_list.remove(2)    # Removes element 2 from the list\n",
    "a_list.pop()        # Removes last element in the list\n",
    "a_list.pop(0)       # Removes first element in the list\n",
    "print(a_list)"
   ]
  },
  {
   "cell_type": "markdown",
   "metadata": {},
   "source": [
    "__Tuple:__ A tuple object is an ordered collection of one or more data items, not necessarily of the same type, surrounded by parentheses."
   ]
  },
  {
   "cell_type": "code",
   "execution_count": 16,
   "metadata": {},
   "outputs": [
    {
     "name": "stdout",
     "output_type": "stream",
     "text": [
      "<class 'tuple'>\n"
     ]
    }
   ],
   "source": [
    "a_tuple = (1, 2, \"3\", 4)\n",
    "print(type(a_tuple))"
   ]
  },
  {
   "cell_type": "code",
   "execution_count": 21,
   "metadata": {},
   "outputs": [
    {
     "name": "stdout",
     "output_type": "stream",
     "text": [
      "1\n"
     ]
    }
   ],
   "source": [
    "print(a_tuple[0])"
   ]
  },
  {
   "cell_type": "markdown",
   "metadata": {},
   "source": [
    "What's difference between List and Tuple? (HINT: Mutability, see below)"
   ]
  },
  {
   "cell_type": "markdown",
   "metadata": {},
   "source": [
    "# Dictionary"
   ]
  },
  {
   "cell_type": "markdown",
   "metadata": {},
   "source": [
    "A dictionary object is an unordered collection of data in a key:value pair form. A collection of such pairs is enclosed in curly brackets."
   ]
  },
  {
   "cell_type": "code",
   "execution_count": 18,
   "metadata": {},
   "outputs": [
    {
     "name": "stdout",
     "output_type": "stream",
     "text": [
      "<class 'dict'>\n"
     ]
    }
   ],
   "source": [
    "a_dict = {'Name': 'James White', 'ID': 56078, 'Age': 30}\n",
    "print(type(a_dict))"
   ]
  },
  {
   "cell_type": "code",
   "execution_count": 19,
   "metadata": {},
   "outputs": [
    {
     "name": "stdout",
     "output_type": "stream",
     "text": [
      "James White\n"
     ]
    }
   ],
   "source": [
    "print(a_dict['Name'])    # Access a dictionary element"
   ]
  },
  {
   "cell_type": "code",
   "execution_count": 31,
   "metadata": {},
   "outputs": [
    {
     "name": "stdout",
     "output_type": "stream",
     "text": [
      "{'Name': 'James White', 'ID': 56078, 'Age': 30, 'Address': '4156 N. Green Ave'}\n"
     ]
    }
   ],
   "source": [
    "a_dict['Address'] = '4156 N. Green Ave'\n",
    "print(a_dict)"
   ]
  },
  {
   "cell_type": "code",
   "execution_count": 33,
   "metadata": {},
   "outputs": [
    {
     "name": "stdout",
     "output_type": "stream",
     "text": [
      "{'Name': 'James White', 'ID': 56078, 'Age': 30, 'Address': '4156 N. Green Ave', 100: 'Some number', 200: [10, 20, 30], 'd': {'a': 1, 'b': 10.0}}\n"
     ]
    }
   ],
   "source": [
    "a_dict[100] = 'Some number'    # Mixed key types\n",
    "a_dict[200] = [10, 20, 30]     # List as a value\n",
    "a_dict['d'] = {'a': 1, 'b': 10.0} # Dictionary within dictionary\n",
    "print(a_dict)"
   ]
  },
  {
   "cell_type": "markdown",
   "metadata": {},
   "source": [
    "# Mutable and Immutable Objects"
   ]
  },
  {
   "cell_type": "markdown",
   "metadata": {},
   "source": [
    "Data objects of the above types are stored in a computer's memory for processing.\n",
    "\n",
    "__Mutable Objects:__ Objects whose values can be modified during processing (after object creation).\n",
    "\n",
    "__Immutable Objects:__ Objects whose values cannot be modified after object creation."
   ]
  },
  {
   "cell_type": "markdown",
   "metadata": {},
   "source": [
    "Number values, strings, and tuple are immutable, which means their contents can't be altered after creation."
   ]
  },
  {
   "cell_type": "code",
   "execution_count": 34,
   "metadata": {},
   "outputs": [],
   "source": [
    "#int\n",
    "x = 1234"
   ]
  },
  {
   "cell_type": "code",
   "execution_count": 12,
   "metadata": {},
   "outputs": [
    {
     "data": {
      "text/plain": [
       "1234"
      ]
     },
     "execution_count": 12,
     "metadata": {},
     "output_type": "execute_result"
    }
   ],
   "source": [
    "x"
   ]
  },
  {
   "cell_type": "markdown",
   "metadata": {},
   "source": [
    "For changing the the value of x, you need to assign new value of x again. "
   ]
  },
  {
   "cell_type": "code",
   "execution_count": 35,
   "metadata": {},
   "outputs": [],
   "source": [
    "x = 4567"
   ]
  },
  {
   "cell_type": "code",
   "execution_count": 14,
   "metadata": {},
   "outputs": [
    {
     "data": {
      "text/plain": [
       "4567"
      ]
     },
     "execution_count": 14,
     "metadata": {},
     "output_type": "execute_result"
    }
   ],
   "source": [
    "x"
   ]
  },
  {
   "cell_type": "markdown",
   "metadata": {},
   "source": [
    "This is same for String and Tuples also."
   ]
  },
  {
   "cell_type": "code",
   "execution_count": 37,
   "metadata": {},
   "outputs": [
    {
     "ename": "TypeError",
     "evalue": "'tuple' object does not support item assignment",
     "output_type": "error",
     "traceback": [
      "\u001b[0;31m---------------------------------------------------------------------------\u001b[0m",
      "\u001b[0;31mTypeError\u001b[0m                                 Traceback (most recent call last)",
      "\u001b[0;32m<ipython-input-37-6e4d00db4b1b>\u001b[0m in \u001b[0;36m<module>\u001b[0;34m()\u001b[0m\n\u001b[0;32m----> 1\u001b[0;31m \u001b[0ma_tuple\u001b[0m\u001b[0;34m[\u001b[0m\u001b[0;36m0\u001b[0m\u001b[0;34m]\u001b[0m \u001b[0;34m=\u001b[0m \u001b[0;36m2\u001b[0m    \u001b[0;31m# This will result in error\u001b[0m\u001b[0;34m\u001b[0m\u001b[0;34m\u001b[0m\u001b[0m\n\u001b[0m",
      "\u001b[0;31mTypeError\u001b[0m: 'tuple' object does not support item assignment"
     ]
    }
   ],
   "source": [
    "a_tuple[0] = 2    # This will result in error"
   ]
  },
  {
   "cell_type": "code",
   "execution_count": 39,
   "metadata": {},
   "outputs": [],
   "source": [
    "a_tuple = (2, 2, \"3\", 4)    # A new tuple is created!"
   ]
  },
  {
   "cell_type": "markdown",
   "metadata": {},
   "source": [
    "On the other hand, collection of items in a List or Dictionary object can be modified. It is possible to add, delete, insert, and rearrange items in a list or dictionary. Hence, they are mutable objects."
   ]
  },
  {
   "cell_type": "markdown",
   "metadata": {},
   "source": [
    "# Practice work:\n",
    "\n",
    "1. Find the type of \"1234\"?\n",
    "\n",
    "2. What will be the output of the following statement,\n",
    "> `print(111.50 > 123.4)`\n",
    "    \n",
    "3. Consider the following statement,        \n",
    "> `x = \"Hello world\"` <br>\n",
    "> What is the type of x?\n",
    "   \n",
    "4. Consider the following statement,\n",
    "> `d= {1:\"zero,one\", 2:\"two,one\", 3:\"three,four\"}` <br>\n",
    "> What is the type of d?\n",
    "   \n",
    "   \n",
    "5. Change the value of 4th element/item in the following list to \"not a fruit\",\n",
    "> thislist = [\"apple\", \"banana\", \"cherry\", \"orange\", \"kiwi\", \"melon\", \"mango\"]"
   ]
  },
  {
   "cell_type": "markdown",
   "metadata": {},
   "source": [
    "# 2.1.2 Basic Operators"
   ]
  },
  {
   "cell_type": "markdown",
   "metadata": {},
   "source": [
    "# Comparison Operators in Python"
   ]
  },
  {
   "cell_type": "markdown",
   "metadata": {},
   "source": [
    "The comparison operators compare two values and return a boolean value, i.e., either True or False.\n",
    "\n",
    "Assuming that `x = 10` and `y = 20`, the result of the comparison operations is given in following table:"
   ]
  },
  {
   "cell_type": "markdown",
   "metadata": {},
   "source": [
    " Operator|Description | \n",
    "-----|----------------|\n",
    " >   | True if the left operand is higher than the right one       \n",
    " <   | True if the left operand is lower than right one       \n",
    " ==  | True if the operands are equal      \n",
    " !=  | True if the operands are not equal       \n",
    " >=  | True if the left operand is higher than or equal to the right one\n",
    " <=  | True if the left operand is lower than or equal to the right one"
   ]
  },
  {
   "cell_type": "markdown",
   "metadata": {},
   "source": [
    "# Examples of Comparison Operators"
   ]
  },
  {
   "cell_type": "code",
   "execution_count": 40,
   "metadata": {},
   "outputs": [
    {
     "data": {
      "text/plain": [
       "False"
      ]
     },
     "execution_count": 40,
     "metadata": {},
     "output_type": "execute_result"
    }
   ],
   "source": [
    "x = 10\n",
    "y = 20\n",
    "# 1)\n",
    "x > y"
   ]
  },
  {
   "cell_type": "code",
   "execution_count": 41,
   "metadata": {},
   "outputs": [
    {
     "data": {
      "text/plain": [
       "True"
      ]
     },
     "execution_count": 41,
     "metadata": {},
     "output_type": "execute_result"
    }
   ],
   "source": [
    "# 2)\n",
    "x < y"
   ]
  },
  {
   "cell_type": "code",
   "execution_count": 27,
   "metadata": {},
   "outputs": [
    {
     "data": {
      "text/plain": [
       "False"
      ]
     },
     "execution_count": 27,
     "metadata": {},
     "output_type": "execute_result"
    }
   ],
   "source": [
    "# 3)\n",
    "x == y    # NOTE the equal to operator vs. assignment operator"
   ]
  },
  {
   "cell_type": "code",
   "execution_count": 42,
   "metadata": {},
   "outputs": [
    {
     "data": {
      "text/plain": [
       "True"
      ]
     },
     "execution_count": 42,
     "metadata": {},
     "output_type": "execute_result"
    }
   ],
   "source": [
    "# 4)\n",
    "x != y"
   ]
  },
  {
   "cell_type": "code",
   "execution_count": 43,
   "metadata": {},
   "outputs": [
    {
     "data": {
      "text/plain": [
       "False"
      ]
     },
     "execution_count": 43,
     "metadata": {},
     "output_type": "execute_result"
    }
   ],
   "source": [
    "# 5)\n",
    "x >= y"
   ]
  },
  {
   "cell_type": "code",
   "execution_count": 44,
   "metadata": {},
   "outputs": [
    {
     "data": {
      "text/plain": [
       "True"
      ]
     },
     "execution_count": 44,
     "metadata": {},
     "output_type": "execute_result"
    }
   ],
   "source": [
    "# 6) \n",
    "x <= y"
   ]
  },
  {
   "cell_type": "markdown",
   "metadata": {},
   "source": [
    "# Logical Operators in Python\n"
   ]
  },
  {
   "cell_type": "markdown",
   "metadata": {},
   "source": [
    "The keywords in the below table combine two Boolean expressions. They are called logical operators. Two operands should have Boolean value True or False."
   ]
  },
  {
   "cell_type": "markdown",
   "metadata": {},
   "source": [
    " Operator|Description | \n",
    "---------|------------|\n",
    " `and`     | True if both are true    \n",
    " `or`      | True if at least one is true  \n",
    " `not`     | True if an expression evaluates to false and vice-versa \n"
   ]
  },
  {
   "cell_type": "code",
   "execution_count": 45,
   "metadata": {},
   "outputs": [],
   "source": [
    "# Assuming that x is True and y is False\n",
    "x = True\n",
    "y = False"
   ]
  },
  {
   "cell_type": "markdown",
   "metadata": {},
   "source": [
    "# Examples of Logical Operators"
   ]
  },
  {
   "cell_type": "code",
   "execution_count": 37,
   "metadata": {},
   "outputs": [
    {
     "data": {
      "text/plain": [
       "False"
      ]
     },
     "execution_count": 37,
     "metadata": {},
     "output_type": "execute_result"
    }
   ],
   "source": [
    "# 1)\n",
    "x and y"
   ]
  },
  {
   "cell_type": "code",
   "execution_count": 38,
   "metadata": {},
   "outputs": [
    {
     "data": {
      "text/plain": [
       "True"
      ]
     },
     "execution_count": 38,
     "metadata": {},
     "output_type": "execute_result"
    }
   ],
   "source": [
    "# 2)\n",
    "x or y"
   ]
  },
  {
   "cell_type": "code",
   "execution_count": 40,
   "metadata": {},
   "outputs": [
    {
     "data": {
      "text/plain": [
       "True"
      ]
     },
     "execution_count": 40,
     "metadata": {},
     "output_type": "execute_result"
    }
   ],
   "source": [
    "#3)\n",
    "not y"
   ]
  },
  {
   "cell_type": "markdown",
   "metadata": {},
   "source": [
    "Note: Comparison and logical operators are useful in controlling flow of program."
   ]
  },
  {
   "cell_type": "markdown",
   "metadata": {},
   "source": [
    "# Practice Work\n",
    "\n",
    "Write a Python expression to check if the number 365 lies in the interval 300 to 400"
   ]
  },
  {
   "cell_type": "markdown",
   "metadata": {},
   "source": [
    "# 2.1.3 Decision Making Loops\n"
   ]
  },
  {
   "cell_type": "markdown",
   "metadata": {},
   "source": [
    "# Decision Control: `if`, `else`, `elif`, `while`, `for`"
   ]
  },
  {
   "cell_type": "markdown",
   "metadata": {},
   "source": [
    "By default, statements in the script are executed sequentially from the first to the last. If the processing logic requires so, the sequential flow can be altered in two ways:\n",
    "\n",
    "\n",
    "Conditional execution: a block of one or more statements will be executed if a certain expression is True.\n",
    "\n",
    "\n",
    "Repetitive execution: a block of one or more statements will be repetitively executed as long as a certain expression is True."
   ]
  },
  {
   "cell_type": "markdown",
   "metadata": {},
   "source": [
    "# `if` Condition"
   ]
  },
  {
   "cell_type": "markdown",
   "metadata": {},
   "source": [
    "Python uses the `if` keyword to implement decision control. Python's syntax for executing a block conditionally is as below:"
   ]
  },
  {
   "cell_type": "markdown",
   "metadata": {},
   "source": [
    "![if_loop.PNG](attachment:if_loop.PNG)"
   ]
  },
  {
   "cell_type": "markdown",
   "metadata": {},
   "source": [
    "Any Boolean expression evaluating to True or False appears after the if keyword. Use the : symbol and press Enter after the expression to start a block with increased indent. One or more statements written with the same level of indent will be executed if the Boolean expression evaluates to True."
   ]
  },
  {
   "cell_type": "markdown",
   "metadata": {},
   "source": [
    "To end the block, decrease the indentation. Subsequent statements after the block will be executed out of the if condition. The following example demonstrates the if condition."
   ]
  },
  {
   "cell_type": "code",
   "execution_count": 46,
   "metadata": {},
   "outputs": [
    {
     "name": "stdout",
     "output_type": "stream",
     "text": [
      "10 is less than 100\n"
     ]
    }
   ],
   "source": [
    "if 10 < 100:\n",
    "    print(\"10 is less than 100\")"
   ]
  },
  {
   "cell_type": "markdown",
   "metadata": {},
   "source": [
    "In the above example, the expression `10 < 100` evalutes to True, so it will execute the block after :. All the statements under the if condition start with an increased indentation. Above, if block contains only one statement."
   ]
  },
  {
   "cell_type": "markdown",
   "metadata": {},
   "source": [
    "Now, let's take another example. Assume that we have to write a Python program that calculates the amount payable, given price and quantity inputs by the end-user and applies a 10% discount if the amount exceeds 1000."
   ]
  },
  {
   "cell_type": "markdown",
   "metadata": {},
   "source": [
    "Calculation and application of the discount is to be done only if the amount is greater than 1000, hence, the process is placed in a block with increased indent, following the conditional expression."
   ]
  },
  {
   "cell_type": "markdown",
   "metadata": {},
   "source": [
    "The `print()` statement is written after the conditional block is over, hence, it will always be executed."
   ]
  },
  {
   "cell_type": "markdown",
   "metadata": {},
   "source": [
    "In the first one, inputs for price and quantity are such that the amount is greater than 1000. The payable amount after applying the discount will be displayed."
   ]
  },
  {
   "cell_type": "code",
   "execution_count": 3,
   "metadata": {},
   "outputs": [
    {
     "name": "stdout",
     "output_type": "stream",
     "text": [
      "Enter Price: 22\n",
      "Enter Quantity: 3000\n",
      "10% discount is applicable\n",
      "Due amount:  59400.0\n"
     ]
    }
   ],
   "source": [
    "price = int(input(\"Enter Price: \"))    # Take input from the user and convert it into an integer\n",
    "qty = int(input(\"Enter Quantity: \"))   # We are not doing any validations here, please provide valid integer inputs\n",
    "amt = price * qty\n",
    "if amt > 1000 :\n",
    "    print (\"10% discount is applicable\")\n",
    "    discount = amt * 10 / 100\n",
    "    amt = amt - discount\n",
    "print(\"Due amount: \", amt)"
   ]
  },
  {
   "cell_type": "markdown",
   "metadata": {},
   "source": [
    "In the second case, inputs are such that the expression doesn't become True. Hence, the print statement will display the payable amount, which will not have a discount.\n",
    "\n",
    "Let's re-run the above code with values of Price and Quantity such that the amount is less than 1000."
   ]
  },
  {
   "cell_type": "markdown",
   "metadata": {},
   "source": [
    "# `else` Keyword"
   ]
  },
  {
   "cell_type": "markdown",
   "metadata": {},
   "source": [
    "Along with the if statement, the else condition can be optionally used to define an alternate block of statements to be executed if the boolean expression in the if condition is not true."
   ]
  },
  {
   "cell_type": "markdown",
   "metadata": {},
   "source": [
    "![else_loop.PNG](attachment:else_loop.PNG)"
   ]
  },
  {
   "cell_type": "markdown",
   "metadata": {},
   "source": [
    "As mentioned before, the indented block starts after the : symbol, after the boolean expression. It will get executed when the condition is True. We have another block that should be executed when the if condition is False. First, complete the if block by backspace and write else, put add the : symbol in front of the new block to begin it and add the required statements in the block. De-dent the else block and enter the statements that should be executed, irrespective of the boolean expression being true or false."
   ]
  },
  {
   "cell_type": "code",
   "execution_count": 5,
   "metadata": {},
   "outputs": [
    {
     "name": "stdout",
     "output_type": "stream",
     "text": [
      "x is greater than or equal to 100\n",
      "Processing completed!\n"
     ]
    }
   ],
   "source": [
    "x = 101\n",
    "if x >= 100:\n",
    "    print (\"x is greater than or equal to 100\")\n",
    "else:\n",
    "    print(\"x is less than 100\")\n",
    "print('Processing completed!')"
   ]
  },
  {
   "cell_type": "markdown",
   "metadata": {},
   "source": [
    "In the above example change the value of `x` to execute `if` part of `if-else`"
   ]
  },
  {
   "cell_type": "markdown",
   "metadata": {},
   "source": [
    "# `elif` Condition"
   ]
  },
  {
   "cell_type": "markdown",
   "metadata": {},
   "source": [
    "The elif condition is used to include multiple conditional expressions between if and else."
   ]
  },
  {
   "cell_type": "markdown",
   "metadata": {},
   "source": [
    "![elif_loop.PNG](attachment:elif_loop.PNG)"
   ]
  },
  {
   "cell_type": "markdown",
   "metadata": {},
   "source": [
    "The elif block is executed if the specified condition is True."
   ]
  },
  {
   "cell_type": "code",
   "execution_count": 6,
   "metadata": {},
   "outputs": [
    {
     "name": "stdout",
     "output_type": "stream",
     "text": [
      "x is 10\n"
     ]
    }
   ],
   "source": [
    "x = 10\n",
    "if x == 1:\n",
    "    print('x is 1')\n",
    "elif x == 5:\n",
    "    print('x is 5')\n",
    "elif x == 10:\n",
    "    print('x is 10')\n",
    "else:\n",
    "    print('x is something else')"
   ]
  },
  {
   "cell_type": "markdown",
   "metadata": {},
   "source": [
    "In the above example, multiple elif conditions are applied between if and else. Python will execute the elif block whose expression evaluates to True. If multiple elif conditions become true, then the first elif block will be executed."
   ]
  },
  {
   "cell_type": "markdown",
   "metadata": {},
   "source": [
    "# Practice Work"
   ]
  },
  {
   "cell_type": "markdown",
   "metadata": {},
   "source": [
    "1. Take input of age of 3 people by user and determine oldest and youngest among them.\n",
    "2. A school has following rules for grading system:\n",
    "> Below 25 - F <br>\n",
    "> 25 to 45 - E <br>\n",
    "> 45 to 50 - D <br>\n",
    "> 50 to 60 - C <br>\n",
    "> 60 to 80 - B <br>\n",
    "> Above 80 - A <br>\n",
    "> Ask user to enter marks and print the corresponding grade.\n",
    "3. Take two int values from user and print greatest among them.\n",
    "4. Write a program to find if a given number is positive or negative."
   ]
  },
  {
   "cell_type": "markdown",
   "metadata": {},
   "source": [
    "# `while` Loop"
   ]
  },
  {
   "cell_type": "markdown",
   "metadata": {},
   "source": [
    "Loop is a very popular phrase in programming jargon. A program, by default, follows a sequential execution of statements. If the program flow is directed towards any of the earlier statements in the program, it constitutes a loop. However, sending it unconditionally causes an infinite loop, which is not desired."
   ]
  },
  {
   "cell_type": "markdown",
   "metadata": {},
   "source": [
    "Python keyword `while` has a conditional expression followed by the : symbol to start a block with increased indent. This block has statements to be executed repeatedly. Such a block is usually referred to as the body of the loop. The body will keep executing till the condition remains True. If and when it turns out to be False, the program will come out of the loop.\n",
    "\n",
    "Consider the following example,"
   ]
  },
  {
   "cell_type": "markdown",
   "metadata": {},
   "source": [
    "Python uses the `while` and `for` keywords to constitute a conditional loop, by which repeated execution of a block of statements is done until a Boolean expression is `True`.\n",
    "\n",
    "The following is the while loop syntax."
   ]
  },
  {
   "cell_type": "markdown",
   "metadata": {},
   "source": [
    "![while_loop.PNG](attachment:while_loop.PNG)"
   ]
  },
  {
   "cell_type": "code",
   "execution_count": 7,
   "metadata": {},
   "outputs": [
    {
     "name": "stdout",
     "output_type": "stream",
     "text": [
      "Enter the no to calculate factorial7\n",
      "The Factorial is  5040\n"
     ]
    }
   ],
   "source": [
    "\n",
    "    \n",
    "    \n",
    "    \n",
    "num = int(input(\"Enter the no to calculate factorial \") )\n",
    "i=1\n",
    "ans=1\n",
    "while i<=num:\n",
    "    ans = ans *i\n",
    "    i=i+1\n",
    "print(\"The Factorial is \", ans)\n",
    "    \n",
    "    \n",
    "\n",
    "    \n",
    "    \n"
   ]
  },
  {
   "cell_type": "markdown",
   "metadata": {},
   "source": [
    "Here the repetitive block after the while statement involves incrementing the value of an integer variable and printing it. Before the block begins, the variable num is initialized to 0. Till the value of the variable is less than 5, the variable is incremented by 1 and printed to display the sequence of numbers, as above."
   ]
  },
  {
   "cell_type": "markdown",
   "metadata": {},
   "source": [
    "Let us develop a Python program that successively takes a number as input from the user and calculates the average, as long as the user enters a positive number. Here, the repetitive block (the body of the loop) asks the user to input a number, adds it cumulatively and keeps the count if it is non-negative."
   ]
  },
  {
   "cell_type": "code",
   "execution_count": 5,
   "metadata": {},
   "outputs": [
    {
     "name": "stdout",
     "output_type": "stream",
     "text": [
      "Enter Number:223\n",
      "223 is a prime number\n"
     ]
    }
   ],
   "source": [
    "num = int(input(\"Enter Number:\"))\n",
    "count = 0\n",
    "i =2\n",
    "\n",
    "while(i < num):\n",
    "     if (num % i ) ==0:\n",
    "        count=count+1\n",
    "     i = i+1   \n",
    "\n",
    "if(count == 0): \n",
    "    print(num,\"is a prime number\")\n",
    "else: \n",
    "    print(num,\"is not a prime number\")"
   ]
  },
  {
   "cell_type": "code",
   "execution_count": null,
   "metadata": {},
   "outputs": [],
   "source": [
    "num = 0\n",
    "count = 0\n",
    "sum = 0\n",
    "while num >= 0:\n",
    "    num = int(input(\"Enter any number or -1 to exit: \"))\n",
    "    if num >= 0:\n",
    "        count = count + 1    # this counts number of inputs \n",
    "        sum = sum + num      # this adds input number cumulatively and holds the sum of input numbers\n",
    "avg = sum / count\n",
    "print(\"Numbers input: \", count, \" with average: \", avg)"
   ]
  },
  {
   "cell_type": "markdown",
   "metadata": {},
   "source": [
    "# `for` Loop"
   ]
  },
  {
   "cell_type": "markdown",
   "metadata": {},
   "source": [
    "Python's `for` keyword provides a more comprehensive mechanism to constitute a loop. The `for` loop is used with sequence types such as list, tuple and set. The body of the for loop is executed for each member element in the sequence. Hence, it doesn't require explicit verification of Boolean expression controlling the loop (as in the while loop)."
   ]
  },
  {
   "cell_type": "markdown",
   "metadata": {},
   "source": [
    "![for_loop.PNG](attachment:for_loop.PNG)"
   ]
  },
  {
   "cell_type": "markdown",
   "metadata": {},
   "source": [
    "To start with, variable `x` in the for statement refers to the item at the 0 index in the sequence. The block of statements with increased uniform indent after the : symbol will be executed. Variable `x` now refers to the next item and repeats the body of the loop till the sequence is exhausted.\n",
    "\n",
    "The following example demonstrates the for loop with a list object."
   ]
  },
  {
   "cell_type": "code",
   "execution_count": 9,
   "metadata": {},
   "outputs": [],
   "source": [
    "mylist = [10, 20, 30, 40, 50]"
   ]
  },
  {
   "cell_type": "code",
   "execution_count": 10,
   "metadata": {},
   "outputs": [
    {
     "name": "stdout",
     "output_type": "stream",
     "text": [
      "10\n",
      "20\n",
      "30\n",
      "40\n",
      "50\n"
     ]
    }
   ],
   "source": [
    "for x in mylist:\n",
    "    print(x)"
   ]
  },
  {
   "cell_type": "markdown",
   "metadata": {},
   "source": [
    "The following demonstrates the for loop with a tuple object."
   ]
  },
  {
   "cell_type": "code",
   "execution_count": 11,
   "metadata": {},
   "outputs": [],
   "source": [
    "mytuple = (10, \"twenty\", 30, \"forty\", 50)"
   ]
  },
  {
   "cell_type": "code",
   "execution_count": 12,
   "metadata": {},
   "outputs": [
    {
     "name": "stdout",
     "output_type": "stream",
     "text": [
      "10\n",
      "twenty\n",
      "30\n",
      "forty\n",
      "50\n"
     ]
    }
   ],
   "source": [
    "for x in mytuple:\n",
    "    print(x)"
   ]
  },
  {
   "cell_type": "markdown",
   "metadata": {},
   "source": [
    "The following code computes the average of all the numbers in a list."
   ]
  },
  {
   "cell_type": "code",
   "execution_count": 18,
   "metadata": {},
   "outputs": [
    {
     "name": "stdout",
     "output_type": "stream",
     "text": [
      "10,20,30,40,\n",
      "Number of elements:  4 , Average:  25.0\n"
     ]
    }
   ],
   "source": [
    "sum = 0\n",
    "numbers = [10, 20, 30, 40]\n",
    "for num in numbers:\n",
    "    print(num, end=',')\n",
    "    sum = sum + num\n",
    "avg = sum / len(numbers)\n",
    "print('\\nNumber of elements: ', len(numbers), ', Average: ', avg)"
   ]
  },
  {
   "cell_type": "markdown",
   "metadata": {},
   "source": [
    "# `for` Loop over Dictionary"
   ]
  },
  {
   "cell_type": "markdown",
   "metadata": {},
   "source": [
    "Key-value pair items in a dictionary do not have an index. The `for` statement offers a convenient way to traverse a dictionary object. \n",
    "\n",
    "The `items()` method of the dictionary object returns a list of tuples, each tuple having a key and value corresponding to each item. The following code uses the for statement to print all key-value pairs in the dictionary."
   ]
  },
  {
   "cell_type": "code",
   "execution_count": 24,
   "metadata": {},
   "outputs": [
    {
     "name": "stdout",
     "output_type": "stream",
     "text": [
      "Key: 1 , Value: 100\n",
      "Key: 2 , Value: 200\n",
      "Key: 3 , Value: 300\n"
     ]
    }
   ],
   "source": [
    "dict = {1: 100, 2: 200, 3: 300}\n",
    "for pair in dict.items():\n",
    "    print('Key:', pair[0], ', Value:', pair[1])"
   ]
  },
  {
   "cell_type": "code",
   "execution_count": 4,
   "metadata": {},
   "outputs": [
    {
     "name": "stdout",
     "output_type": "stream",
     "text": [
      "{'brand': 'Ford', 'model': 'Mustang', 'year': 1964}\n"
     ]
    }
   ],
   "source": [
    "thisdict = {\n",
    "\"brand\": \"Ford\",\n",
    "\"model\": \"Mustang\",\n",
    "\"year\": 1964\n",
    "}\n",
    "mydict = dict(thisdict)\n",
    "print(mydict)"
   ]
  },
  {
   "cell_type": "markdown",
   "metadata": {},
   "source": [
    "# `for` Loop over `string`"
   ]
  },
  {
   "cell_type": "markdown",
   "metadata": {},
   "source": [
    "The object of any Python sequence data type can be iterated using the for statement."
   ]
  },
  {
   "cell_type": "code",
   "execution_count": 25,
   "metadata": {},
   "outputs": [
    {
     "name": "stdout",
     "output_type": "stream",
     "text": [
      "H\n",
      "e\n",
      "l\n",
      "l\n",
      "o\n"
     ]
    }
   ],
   "source": [
    "for char in \"Hello\":\n",
    "    print(char)"
   ]
  },
  {
   "cell_type": "markdown",
   "metadata": {},
   "source": [
    "# Nested `for` Loop"
   ]
  },
  {
   "cell_type": "markdown",
   "metadata": {},
   "source": [
    "If a loop (for loop or while loop) contains another loop in its body block, we say that the two loops are __nested__. If the outer loop is designed to perform $m$ iterations and the inner loop is designed to perform $n$ repetitions, the body block of the inner loop will get executed $m \\times n$ times."
   ]
  },
  {
   "cell_type": "code",
   "execution_count": 33,
   "metadata": {},
   "outputs": [
    {
     "name": "stdout",
     "output_type": "stream",
     "text": [
      "x: 1, y: 1, Hello World\n",
      "x: 1, y: 2, Hello World\n",
      "x: 2, y: 1, Hello World\n",
      "x: 2, y: 2, Hello World\n",
      "x: 3, y: 1, Hello World\n",
      "x: 3, y: 2, Hello World\n",
      "Number of repetitions = 6\n"
     ]
    }
   ],
   "source": [
    "num_repetitions = 0\n",
    "for x in range(1, 4):    # range function: output 1, 2, 3\n",
    "    for y in range(1, 3):\n",
    "        print ('x: ' + str(x) + ', y: ' + str(y) + ', Hello World')    # Concatenate strings with + operator, and integer to a string using str\n",
    "        num_repetitions += 1    # Increment the variable by 1\n",
    "print('Number of repetitions = ' + str(num_repetitions))    # Concatenate integer to a string using str"
   ]
  },
  {
   "cell_type": "markdown",
   "metadata": {},
   "source": [
    "Here, x (the variable controlling the outer loop) will have three values (1, 2, 3) and y (the variable controlling the inner loop) will take two values (1, 2). The 'Hello World' message will be displayed six times."
   ]
  },
  {
   "cell_type": "markdown",
   "metadata": {},
   "source": [
    "# `for else` in Loop"
   ]
  },
  {
   "cell_type": "markdown",
   "metadata": {},
   "source": [
    "As you have learned before, the else clause is used along with the if statement. Python allows the else keyword to be used with the for and while loops too. The else block appears after the body of the loop. The statements in the else block will be executed after all iterations are completed. The program exits the loop only after the else block is executed."
   ]
  },
  {
   "cell_type": "code",
   "execution_count": 1,
   "metadata": {},
   "outputs": [
    {
     "name": "stdout",
     "output_type": "stream",
     "text": [
      "Iteration no 1 in for loop\n",
      "Iteration no 2 in for loop\n",
      "Iteration no 3 in for loop\n",
      "Iteration no 4 in for loop\n",
      "Iteration no 5 in for loop\n",
      "Within else block in the loop\n",
      "Out of loop!\n"
     ]
    }
   ],
   "source": [
    "for x in range(5):\n",
    "    print (\"Iteration no {} in for loop\".format(x+1))\n",
    "else:\n",
    "    print (\"Within else block in the loop\")\n",
    "print (\"Out of loop!\")"
   ]
  },
  {
   "cell_type": "markdown",
   "metadata": {},
   "source": [
    "The output of the above code confirms that the else block in the for loop will be executed while the number is in the range."
   ]
  },
  {
   "cell_type": "markdown",
   "metadata": {},
   "source": [
    "Use of else works well with the while loop too.\n"
   ]
  },
  {
   "cell_type": "code",
   "execution_count": 2,
   "metadata": {},
   "outputs": [
    {
     "name": "stdout",
     "output_type": "stream",
     "text": [
      "Iteration no 1 in while loop\n",
      "Iteration no 2 in while loop\n",
      "Iteration no 3 in while loop\n",
      "Iteration no 4 in while loop\n",
      "Iteration no 5 in while loop\n",
      "Within else block in the loop\n",
      "Out of loop!\n"
     ]
    }
   ],
   "source": [
    "x = 0\n",
    "while x < 5:\n",
    "    x += 1\n",
    "    print (\"Iteration no {} in while loop\".format(x))\n",
    "else:\n",
    "    print (\"Within else block in the loop\")\n",
    "print (\"Out of loop!\")"
   ]
  },
  {
   "cell_type": "markdown",
   "metadata": {},
   "source": [
    "# `break` Keyword"
   ]
  },
  {
   "cell_type": "markdown",
   "metadata": {},
   "source": [
    "The break keyword causes the abandonment of pending iterations of the current loop. The execution of the program jumps to the statement immediately after the body of the loop.\n",
    "\n",
    "Typical use of break is found in a sequential search algorithm. For example, if you need to search for an object in a collection, you will have to execute a comparison expression in a loop. However, if the required object is found, an early exit from the loop is sought, without traversing the remaining collection.\n",
    "\n",
    "The following example demonstrates the use of break inside a while loop:"
   ]
  },
  {
   "cell_type": "code",
   "execution_count": 37,
   "metadata": {},
   "outputs": [
    {
     "name": "stdout",
     "output_type": "stream",
     "text": [
      "Num = 1\n",
      "Num = 2\n",
      "Num = 3\n",
      "We will now break out of the for loop!\n",
      "Out of loop\n"
     ]
    }
   ],
   "source": [
    "num = 0\n",
    "while num < 5:\n",
    "    num = num + 1\n",
    "    print(\"Num = {}\".format(num))\n",
    "    if num == 3:\n",
    "        print('We will now break out of the for loop!')\n",
    "        break\n",
    "print(\"Out of loop\")"
   ]
  },
  {
   "cell_type": "markdown",
   "metadata": {},
   "source": [
    "The following program demonstrates the use of break in a loop. It accepts a number as input and determines whether it is a prime number or not. By definition, n is prime if it is not divisible by any number between the range 2 to n-1."
   ]
  },
  {
   "cell_type": "code",
   "execution_count": 39,
   "metadata": {},
   "outputs": [
    {
     "name": "stdout",
     "output_type": "stream",
     "text": [
      "Enter a number: 6\n",
      "6 is not prime\n"
     ]
    }
   ],
   "source": [
    "num = int(input(\"Enter a number: \"))\n",
    "for x in range(2, num):\n",
    "    if num % x == 0:    # % operator - mod operator, e.g. 5 % 2 is 1, 5 % 3 is 2\n",
    "        print(\"{} is not prime\".format(num))\n",
    "        break\n",
    "else:\n",
    "    print (\"{} is prime\".format(num))"
   ]
  },
  {
   "cell_type": "markdown",
   "metadata": {},
   "source": [
    "# `continue` Keyword"
   ]
  },
  {
   "cell_type": "markdown",
   "metadata": {},
   "source": [
    "The effect of a continue statement is *somewhat* opposite to the break keyword. Instead of abandoning the pending iterations in the loop, the continue statement skips the remaining statements in the current loop and starts the next iteration.\n",
    "\n",
    "Usage of continue in Python is shown below:"
   ]
  },
  {
   "cell_type": "code",
   "execution_count": 41,
   "metadata": {},
   "outputs": [
    {
     "name": "stdout",
     "output_type": "stream",
     "text": [
      "Num = 1 \n",
      "Num = 2 \n",
      "Num = 4 \n",
      "Num = 5 \n",
      "Out of loop\n"
     ]
    }
   ],
   "source": [
    "num = 0\n",
    "while num < 5:\n",
    "    num = num + 1        \n",
    "    if num == 3:\n",
    "        continue    # Abandon execution of the rest of the loop\n",
    "    print (\"Num = {} \".format(num))\n",
    "print (\"Out of loop\")"
   ]
  },
  {
   "cell_type": "markdown",
   "metadata": {},
   "source": [
    "When num has value 3, the `print` statement in the loop will be skipped. For other values of num, the `print` statement will be executed before the end of the loop message."
   ]
  },
  {
   "cell_type": "markdown",
   "metadata": {},
   "source": [
    "# `pass` Keyword"
   ]
  },
  {
   "cell_type": "markdown",
   "metadata": {},
   "source": [
    "The pass keyword as name suggests, does nothing. It is used as a dummy place holder whenever a syntactical requirement of a certain programming element is to be fulfilled without assigning any operation. In other words, the pass statement is simply ignored by the Python interpreter and can be seen as a null statement. It is generally used as a dummy statement in a code block, for example in the if or else block."
   ]
  },
  {
   "cell_type": "code",
   "execution_count": 42,
   "metadata": {},
   "outputs": [
    {
     "name": "stdout",
     "output_type": "stream",
     "text": [
      "Num = 1 \n",
      "Num = 2 \n",
      "Num = 4 \n",
      "Num = 5 \n"
     ]
    }
   ],
   "source": [
    "for num in range(1, 6):        \n",
    "    if num == 3:\n",
    "        pass\n",
    "    else:\n",
    "        print(\"Num = {} \".format(num))\n",
    "        "
   ]
  },
  {
   "cell_type": "markdown",
   "metadata": {},
   "source": [
    "# Practice Questions"
   ]
  },
  {
   "cell_type": "markdown",
   "metadata": {},
   "source": [
    "1. Print all elements of a list using for loop.\n",
    "2. Take 10 integers from keyboard using loop and print their average value on the screen.\n",
    "3. Print multiplication table of 24, 50 and 29 using loop.\n",
    "4. Write an infinite loop. A inifinte loop never ends. Condition is always True."
   ]
  },
  {
   "cell_type": "markdown",
   "metadata": {},
   "source": [
    "# References\n",
    "* https://www.tutorialsteacher.com/python"
   ]
  }
 ],
 "metadata": {
  "kernelspec": {
   "display_name": "Python 3",
   "language": "python",
   "name": "python3"
  },
  "language_info": {
   "codemirror_mode": {
    "name": "ipython",
    "version": 3
   },
   "file_extension": ".py",
   "mimetype": "text/x-python",
   "name": "python",
   "nbconvert_exporter": "python",
   "pygments_lexer": "ipython3",
   "version": "3.7.3"
  }
 },
 "nbformat": 4,
 "nbformat_minor": 2
}
