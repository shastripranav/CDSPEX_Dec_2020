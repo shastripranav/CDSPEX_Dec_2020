{
 "cells": [
  {
   "cell_type": "markdown",
   "metadata": {},
   "source": [
    "# Functions\n",
    "\n",
    "A function encapsulates a single cohesive functionality. It is a block of organized and reusable code that makes our apps modular.\n",
    "\n",
    "## Defining a Function\n",
    "\n",
    "Following are the basic rules to define a function,\n",
    "\n",
    "- Function begins with the keyword `def` followed by the function name and parentheses `()`.\n",
    "\n",
    "- Function can have zero or more parameters placed within `()`. By default parameters are position-based.\n",
    "\n",
    "- The function code block starts with a colon (:) and is indented.\n",
    "\n",
    "- First statement in a function is an optional statement - the documentation string of the function or docstring.\n",
    "\n",
    "- An optional statement `return` exits a function. `return` can optionally be followed by an expression."
   ]
  },
  {
   "cell_type": "markdown",
   "metadata": {},
   "source": [
    "## Syntax"
   ]
  },
  {
   "cell_type": "code",
   "execution_count": null,
   "metadata": {},
   "outputs": [],
   "source": [
    "# def functionname(parameters):\n",
    "#     \"function_docstring\"\n",
    "#     code_block\n",
    "#     return [expression]"
   ]
  },
  {
   "cell_type": "markdown",
   "metadata": {},
   "source": [
    "### Example"
   ]
  },
  {
   "cell_type": "markdown",
   "metadata": {},
   "source": [
    "Let's define a function that takes a string as input and prints it on the standard output"
   ]
  },
  {
   "cell_type": "code",
   "execution_count": null,
   "metadata": {},
   "outputs": [],
   "source": [
    "# Function definition follows\n",
    "def printstr(str):\n",
    "    \"Prints the string passed to this function\"\n",
    "    print(str)\n",
    "    return\n",
    "\n",
    "# NOTE: Here we have only defined the function and not used it."
   ]
  },
  {
   "cell_type": "markdown",
   "metadata": {},
   "source": [
    "## Calling a Function\n",
    "\n",
    "After defining the function, we need to execute the function by calling it. The function can be called from another function or directly from the console. \n",
    "\n",
    "Following is the example to call `printstr()` function,"
   ]
  },
  {
   "cell_type": "code",
   "execution_count": null,
   "metadata": {},
   "outputs": [],
   "source": [
    "# Now you can call printstr function\n",
    "printstr(\"Calling the function\")\n",
    "printstr(\"Calling again!\")"
   ]
  },
  {
   "cell_type": "markdown",
   "metadata": {},
   "source": [
    "## Arguments: Pass by Reference and  Value\n",
    "\n",
    "\n",
    "By default all arguments are passed by __reference__, i.e., if we modify the parameter within a function then the change will also be reflected outside the function. For example,"
   ]
  },
  {
   "cell_type": "code",
   "execution_count": null,
   "metadata": {},
   "outputs": [],
   "source": [
    "# Modifies a list passed to this function\n",
    "# Note: return is optional\n",
    "def changevar(varlist):\n",
    "    varlist.append(1);\n",
    "    varlist.append(2);\n",
    "    varlist.append(3);\n",
    "    varlist.append(4);\n",
    "    print(\"Within function: \", varlist)\n",
    "\n",
    "mylist = [10, 20, 30];\n",
    "print(\"Before function: \", mylist)\n",
    "changevar(mylist);\n",
    "print(\"After function: \", mylist)"
   ]
  },
  {
   "cell_type": "markdown",
   "metadata": {},
   "source": [
    "There is one more example where argument is being passed by reference and the reference is being overwritten inside the called function."
   ]
  },
  {
   "cell_type": "code",
   "execution_count": null,
   "metadata": {},
   "outputs": [],
   "source": [
    "# Example where the reference to the variable within the function\n",
    "def changevar(varlist):\n",
    "    varlist = [1, 2, 3, 4]; # Assign a new reference\n",
    "    print (\"Within function: \", varlist)\n",
    "\n",
    "mylist = [10, 20, 30];\n",
    "print(\"Before function: \", mylist)\n",
    "changevar(mylist);\n",
    "print(\"After function: \", mylist)"
   ]
  },
  {
   "cell_type": "markdown",
   "metadata": {},
   "source": [
    "## Function Arguments\n",
    "\n",
    "A function can be called using following types of formal arguments,\n",
    "\n",
    "- Required arguments\n",
    "- Keyword arguments\n",
    "- Default arguments\n",
    "- Variable-length arguments"
   ]
  },
  {
   "cell_type": "markdown",
   "metadata": {},
   "source": [
    "## Required Arguments\n",
    "\n",
    "Required arguments are passed to a function in correct order of their position. The number of required arguments in the function call should match exactly with that of the function definition."
   ]
  },
  {
   "cell_type": "code",
   "execution_count": null,
   "metadata": {},
   "outputs": [],
   "source": [
    "# printstr takes one required argument str\n",
    "def printstr(str):\n",
    "    print(str)\n",
    "    return\n",
    "\n",
    "printstr(\"Hello\")\n",
    "# printstr() # This will throw error\n",
    "# printstr(\"Hello\", \"World\") # This will also throw error"
   ]
  },
  {
   "cell_type": "markdown",
   "metadata": {},
   "source": [
    "## Keyword Arguments\n",
    "\n",
    "Here, the caller identifies the parameter by specifying the parameter name alongwith the argument. With this we can skip arguments or place them out of order."
   ]
  },
  {
   "cell_type": "code",
   "execution_count": null,
   "metadata": {},
   "outputs": [],
   "source": [
    "# Function definition is here\n",
    "def printstr(str):\n",
    "    print(str)\n",
    "    return\n",
    "\n",
    "printstr(str = \"Your string\")"
   ]
  },
  {
   "cell_type": "code",
   "execution_count": null,
   "metadata": {},
   "outputs": [],
   "source": [
    "# Another example ...\n",
    "def printdetails(name, age):\n",
    "    print(\"Name: \", name)\n",
    "    print(\"Age: \", age)\n",
    "    return\n",
    "\n",
    "printdetails(age = 49, name=\"Mr. John\" )"
   ]
  },
  {
   "cell_type": "markdown",
   "metadata": {},
   "source": [
    "## Default Arguments\n",
    "\n",
    "These are the parameters that assume a default value if the corresponding argument is not provided in the function call."
   ]
  },
  {
   "cell_type": "code",
   "execution_count": null,
   "metadata": {},
   "outputs": [],
   "source": [
    "def printdetails(name, age = 44):\n",
    "    print(\"Name: \", name)\n",
    "    print(\"Age: \", age)\n",
    "    return\n",
    "\n",
    "printdetails(age = 50, name = \"Mr. John\")\n",
    "printdetails(name = \"Mr. John\")"
   ]
  },
  {
   "cell_type": "markdown",
   "metadata": {},
   "source": [
    "## Variable-length arguments\n",
    "\\*args in function definitions is used to pass a variable number of arguments to a function. It is used to pass a non-keyworded, variable-length argument list."
   ]
  },
  {
   "cell_type": "code",
   "execution_count": null,
   "metadata": {},
   "outputs": [],
   "source": [
    "# Syntax\n",
    "# def functionname([formal_args,] *args):\n",
    "#     code_block\n",
    "#     return [expression]"
   ]
  },
  {
   "cell_type": "code",
   "execution_count": null,
   "metadata": {},
   "outputs": [],
   "source": [
    "def printdetails(arg1, *args):\n",
    "    print(\"Output is: \")\n",
    "    print(arg1)\n",
    "    for var in args:\n",
    "        print(var)\n",
    "    return\n",
    "\n",
    "printdetails(10)\n",
    "printdetails(70, 60, 50)"
   ]
  },
  {
   "cell_type": "markdown",
   "metadata": {},
   "source": [
    "We can also pass variable length arguments with keywords, \\*\\*kwargs in function definitions in python is used to pass a keyworded, variable-length argument list."
   ]
  },
  {
   "cell_type": "code",
   "execution_count": null,
   "metadata": {},
   "outputs": [],
   "source": [
    "def printdetails(**kwargs):  \n",
    "    for key, value in kwargs.items(): \n",
    "        print(\"%s == %s\" % (key, value)) # another way to print the values\n",
    "        \n",
    "# Driver code\n",
    "printdetails(first ='Geeks', mid ='for', last='Geeks') "
   ]
  },
  {
   "cell_type": "markdown",
   "metadata": {},
   "source": [
    "## The Anonymous Functions\n",
    "\n",
    "Small functions without a name and defined with keyword `lambda` are known as anonymous functions.\n",
    "\n",
    "- This function can have any number of arguments but only one expression, which is evaluated and returned.\n",
    "\n",
    "- Lambda functions have their own local namespace and cannot access variables other than those in their parameter list and those in the global namespace."
   ]
  },
  {
   "cell_type": "markdown",
   "metadata": {},
   "source": [
    "### Syntax\n",
    "The syntax of lambda functions contains only a single statement, which is as follows,"
   ]
  },
  {
   "cell_type": "code",
   "execution_count": null,
   "metadata": {},
   "outputs": [],
   "source": [
    "# lambda [arg1 [,arg2,.....argn]]:expression"
   ]
  },
  {
   "cell_type": "markdown",
   "metadata": {},
   "source": [
    "Following is the example to show how lambda form of function works −"
   ]
  },
  {
   "cell_type": "code",
   "execution_count": null,
   "metadata": {},
   "outputs": [],
   "source": [
    "diff = lambda arg1, arg2: arg1 - arg2; # function definition\n",
    "\n",
    "# Call diff as a function\n",
    "print (\"Diff: \", diff(20, 10))\n",
    "print (\"Diff: \", diff(20, 20))"
   ]
  },
  {
   "cell_type": "markdown",
   "metadata": {},
   "source": [
    "## The `return` Statement\n",
    "\n",
    "`return [expression]` ends the execution of a function, optionally passing the result of an expression back to the caller. `return` statement is optional. If the `return` statement is without any expression, then the special value `None` is returned."
   ]
  },
  {
   "cell_type": "code",
   "execution_count": null,
   "metadata": {},
   "outputs": [],
   "source": [
    "def add(a, b):\n",
    "    return a + b\n",
    "\n",
    "sum = add(10, 20)\n",
    "print('Sum is: ' + str(sum))"
   ]
  },
  {
   "cell_type": "markdown",
   "metadata": {},
   "source": [
    "## Scope of Variables\n",
    "\n",
    "The scope of a variable, determines the sections of the program where that variable is accessible. There are two basic scopes of variables,\n",
    "\n",
    "- Global variables\n",
    "- Local variables"
   ]
  },
  {
   "cell_type": "markdown",
   "metadata": {},
   "source": [
    "## Global vs. Local Variables\n",
    "\n",
    "\n",
    "Variables that are defined **within a function** have **local scope**, and those defined **outside a function** have **global scope**.\n",
    "\n",
    "Hence, \n",
    "- _local variables_ are accessible only inside the function in which they are declared. When a function is called, the variables declared inside the function are brought into scope. _local variables_ take precedence over global variables (with the same name).\n",
    "- _global variables_ are accessible throughout the entire program."
   ]
  },
  {
   "cell_type": "code",
   "execution_count": 4,
   "metadata": {},
   "outputs": [
    {
     "name": "stdout",
     "output_type": "stream",
     "text": [
      "Testing local\n",
      "Within function total (local variable):  40\n",
      "Outside function total:  0\n",
      "Testing global!\n",
      "Within function total (global variable):  35\n",
      "Outside function total:  35\n"
     ]
    }
   ],
   "source": [
    "total = 0    # A global variable.\n",
    "\n",
    "def addlocal(arg1, arg2):\n",
    "    total = arg1 + arg2  # total is local variable, inside function\n",
    "    print (\"Within function total (local variable): \", total)\n",
    "\n",
    "def addglobal(arg1, arg2):\n",
    "    global total\n",
    "    total = arg1 + arg2  # using global keyword we access the global variable total\n",
    "    print (\"Within function total (global variable): \", total)\n",
    "\n",
    "print('Testing local')\n",
    "addlocal(10, 30)\n",
    "print(\"Outside function total: \", total)\n",
    "\n",
    "print('Testing global!')\n",
    "addglobal(10, 25)\n",
    "print(\"Outside function total: \", total)"
   ]
  },
  {
   "cell_type": "code",
   "execution_count": null,
   "metadata": {},
   "outputs": [],
   "source": []
  }
 ],
 "metadata": {
  "kernelspec": {
   "display_name": "Python 3",
   "language": "python",
   "name": "python3"
  },
  "language_info": {
   "codemirror_mode": {
    "name": "ipython",
    "version": 3
   },
   "file_extension": ".py",
   "mimetype": "text/x-python",
   "name": "python",
   "nbconvert_exporter": "python",
   "pygments_lexer": "ipython3",
   "version": "3.7.3"
  }
 },
 "nbformat": 4,
 "nbformat_minor": 2
}
