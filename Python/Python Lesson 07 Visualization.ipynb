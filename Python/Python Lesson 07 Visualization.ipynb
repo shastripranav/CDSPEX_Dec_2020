{
 "cells": [
  {
   "cell_type": "markdown",
   "metadata": {},
   "source": [
    "# Data Visualization in Python"
   ]
  },
  {
   "cell_type": "markdown",
   "metadata": {},
   "source": [
    "Data visualization is the graphic representation of data. It involves producing images that communicate relationships among the represented data to viewers of the images. This communication is achieved through the use of a systematic mapping between graphic marks and data values in the creation of the visualization. [Source: Wikipedia]"
   ]
  },
  {
   "cell_type": "markdown",
   "metadata": {},
   "source": [
    "Python offers many visualization libraries, that allow us to create rich, interactive, and customized visualizations for effective communication of insights from data.\n",
    "\n",
    "Following are some popular visualization (aka. graphing) libraries in Python,\n",
    "- `matplotlib`: Provides low level constructs to customize graphs\n",
    "- `pandas` visualization: User-friently interface, built on Matplotlib\n",
    "- `seaborn`: High-level abstractions with ready-to-use styles\n",
    "- `ggplot`: Based on R’s `ggplot2`\n",
    "- `plotly`: Supports interactive plots"
   ]
  },
  {
   "cell_type": "markdown",
   "metadata": {},
   "source": [
    "We will learn, how to create basic plots using `matplotlib`, `pandas` visualization, and `seaborn`."
   ]
  },
  {
   "cell_type": "markdown",
   "metadata": {},
   "source": [
    "## Import Datasets\n",
    "\n",
    "We will use two datasets that are available freely on the internet. The __Iris__ and __Wine Reviews__ dataset."
   ]
  },
  {
   "cell_type": "code",
   "execution_count": 1,
   "metadata": {},
   "outputs": [
    {
     "name": "stdout",
     "output_type": "stream",
     "text": [
      "   sepal_length  sepal_width  petal_length  petal_width  class\n",
      "0           5.1          3.5           1.4          0.2      0\n",
      "1           4.9          3.0           1.4          0.2      0\n",
      "2           4.7          3.2           1.3          0.2      0\n",
      "3           4.6          3.1           1.5          0.2      0\n",
      "4           5.0          3.6           1.4          0.2      0\n"
     ]
    }
   ],
   "source": [
    "import pandas as pd\n",
    "iris = pd.read_csv('/Users/pranavshastri/Downloads/iris.csv', names=['sepal_length', 'sepal_width', 'petal_length', 'petal_width', 'class'])\n",
    "print(iris.head())"
   ]
  },
  {
   "cell_type": "code",
   "execution_count": 2,
   "metadata": {},
   "outputs": [
    {
     "data": {
      "text/html": [
       "<div>\n",
       "<style scoped>\n",
       "    .dataframe tbody tr th:only-of-type {\n",
       "        vertical-align: middle;\n",
       "    }\n",
       "\n",
       "    .dataframe tbody tr th {\n",
       "        vertical-align: top;\n",
       "    }\n",
       "\n",
       "    .dataframe thead th {\n",
       "        text-align: right;\n",
       "    }\n",
       "</style>\n",
       "<table border=\"1\" class=\"dataframe\">\n",
       "  <thead>\n",
       "    <tr style=\"text-align: right;\">\n",
       "      <th></th>\n",
       "      <th>country</th>\n",
       "      <th>description</th>\n",
       "      <th>designation</th>\n",
       "      <th>points</th>\n",
       "      <th>price</th>\n",
       "      <th>province</th>\n",
       "      <th>region_1</th>\n",
       "      <th>region_2</th>\n",
       "      <th>taster_name</th>\n",
       "      <th>taster_twitter_handle</th>\n",
       "      <th>title</th>\n",
       "      <th>variety</th>\n",
       "      <th>winery</th>\n",
       "    </tr>\n",
       "  </thead>\n",
       "  <tbody>\n",
       "    <tr>\n",
       "      <th>0</th>\n",
       "      <td>Italy</td>\n",
       "      <td>Aromas include tropical fruit, broom, brimston...</td>\n",
       "      <td>Vulkà Bianco</td>\n",
       "      <td>87</td>\n",
       "      <td>NaN</td>\n",
       "      <td>Sicily &amp; Sardinia</td>\n",
       "      <td>Etna</td>\n",
       "      <td>NaN</td>\n",
       "      <td>Kerin O’Keefe</td>\n",
       "      <td>@kerinokeefe</td>\n",
       "      <td>Nicosia 2013 Vulkà Bianco  (Etna)</td>\n",
       "      <td>White Blend</td>\n",
       "      <td>Nicosia</td>\n",
       "    </tr>\n",
       "    <tr>\n",
       "      <th>1</th>\n",
       "      <td>Portugal</td>\n",
       "      <td>This is ripe and fruity, a wine that is smooth...</td>\n",
       "      <td>Avidagos</td>\n",
       "      <td>87</td>\n",
       "      <td>15.0</td>\n",
       "      <td>Douro</td>\n",
       "      <td>NaN</td>\n",
       "      <td>NaN</td>\n",
       "      <td>Roger Voss</td>\n",
       "      <td>@vossroger</td>\n",
       "      <td>Quinta dos Avidagos 2011 Avidagos Red (Douro)</td>\n",
       "      <td>Portuguese Red</td>\n",
       "      <td>Quinta dos Avidagos</td>\n",
       "    </tr>\n",
       "    <tr>\n",
       "      <th>2</th>\n",
       "      <td>US</td>\n",
       "      <td>Tart and snappy, the flavors of lime flesh and...</td>\n",
       "      <td>NaN</td>\n",
       "      <td>87</td>\n",
       "      <td>14.0</td>\n",
       "      <td>Oregon</td>\n",
       "      <td>Willamette Valley</td>\n",
       "      <td>Willamette Valley</td>\n",
       "      <td>Paul Gregutt</td>\n",
       "      <td>@paulgwine</td>\n",
       "      <td>Rainstorm 2013 Pinot Gris (Willamette Valley)</td>\n",
       "      <td>Pinot Gris</td>\n",
       "      <td>Rainstorm</td>\n",
       "    </tr>\n",
       "    <tr>\n",
       "      <th>3</th>\n",
       "      <td>US</td>\n",
       "      <td>Pineapple rind, lemon pith and orange blossom ...</td>\n",
       "      <td>Reserve Late Harvest</td>\n",
       "      <td>87</td>\n",
       "      <td>13.0</td>\n",
       "      <td>Michigan</td>\n",
       "      <td>Lake Michigan Shore</td>\n",
       "      <td>NaN</td>\n",
       "      <td>Alexander Peartree</td>\n",
       "      <td>NaN</td>\n",
       "      <td>St. Julian 2013 Reserve Late Harvest Riesling ...</td>\n",
       "      <td>Riesling</td>\n",
       "      <td>St. Julian</td>\n",
       "    </tr>\n",
       "    <tr>\n",
       "      <th>4</th>\n",
       "      <td>US</td>\n",
       "      <td>Much like the regular bottling from 2012, this...</td>\n",
       "      <td>Vintner's Reserve Wild Child Block</td>\n",
       "      <td>87</td>\n",
       "      <td>65.0</td>\n",
       "      <td>Oregon</td>\n",
       "      <td>Willamette Valley</td>\n",
       "      <td>Willamette Valley</td>\n",
       "      <td>Paul Gregutt</td>\n",
       "      <td>@paulgwine</td>\n",
       "      <td>Sweet Cheeks 2012 Vintner's Reserve Wild Child...</td>\n",
       "      <td>Pinot Noir</td>\n",
       "      <td>Sweet Cheeks</td>\n",
       "    </tr>\n",
       "  </tbody>\n",
       "</table>\n",
       "</div>"
      ],
      "text/plain": [
       "    country                                        description  \\\n",
       "0     Italy  Aromas include tropical fruit, broom, brimston...   \n",
       "1  Portugal  This is ripe and fruity, a wine that is smooth...   \n",
       "2        US  Tart and snappy, the flavors of lime flesh and...   \n",
       "3        US  Pineapple rind, lemon pith and orange blossom ...   \n",
       "4        US  Much like the regular bottling from 2012, this...   \n",
       "\n",
       "                          designation  points  price           province  \\\n",
       "0                        Vulkà Bianco      87    NaN  Sicily & Sardinia   \n",
       "1                            Avidagos      87   15.0              Douro   \n",
       "2                                 NaN      87   14.0             Oregon   \n",
       "3                Reserve Late Harvest      87   13.0           Michigan   \n",
       "4  Vintner's Reserve Wild Child Block      87   65.0             Oregon   \n",
       "\n",
       "              region_1           region_2         taster_name  \\\n",
       "0                 Etna                NaN       Kerin O’Keefe   \n",
       "1                  NaN                NaN          Roger Voss   \n",
       "2    Willamette Valley  Willamette Valley        Paul Gregutt   \n",
       "3  Lake Michigan Shore                NaN  Alexander Peartree   \n",
       "4    Willamette Valley  Willamette Valley        Paul Gregutt   \n",
       "\n",
       "  taster_twitter_handle                                              title  \\\n",
       "0          @kerinokeefe                  Nicosia 2013 Vulkà Bianco  (Etna)   \n",
       "1            @vossroger      Quinta dos Avidagos 2011 Avidagos Red (Douro)   \n",
       "2           @paulgwine       Rainstorm 2013 Pinot Gris (Willamette Valley)   \n",
       "3                   NaN  St. Julian 2013 Reserve Late Harvest Riesling ...   \n",
       "4           @paulgwine   Sweet Cheeks 2012 Vintner's Reserve Wild Child...   \n",
       "\n",
       "          variety               winery  \n",
       "0     White Blend              Nicosia  \n",
       "1  Portuguese Red  Quinta dos Avidagos  \n",
       "2      Pinot Gris            Rainstorm  \n",
       "3        Riesling           St. Julian  \n",
       "4      Pinot Noir         Sweet Cheeks  "
      ]
     },
     "execution_count": 2,
     "metadata": {},
     "output_type": "execute_result"
    }
   ],
   "source": [
    "wine_reviews = pd.read_csv('/Users/pranavshastri/Downloads/drive-download-20200406T091401Z-001/Python Lesson 07/Data_set_visualisation/winemag-data-130k-v2.csv', index_col=0)\n",
    "wine_reviews.head()"
   ]
  },
  {
   "cell_type": "markdown",
   "metadata": {},
   "source": [
    "## Different Charts with `matplotlib`\n",
    "\n",
    "`matplotlib` is a popular Python plotting library. It is a library with __Matlab__ like interface that offers a versatile set of options.\n",
    "\n",
    "To install `matplotlib`, `pip` and `conda` can be used.\n",
    "\n",
    "`pip install matplotlib`\n",
    "\n",
    "or\n",
    "\n",
    "`conda install matplotlib`"
   ]
  },
  {
   "cell_type": "markdown",
   "metadata": {},
   "source": [
    "`matplotlib` is specifically good for creating basic graphs like line charts, bar charts, histograms and many more."
   ]
  },
  {
   "cell_type": "code",
   "execution_count": 3,
   "metadata": {},
   "outputs": [],
   "source": [
    "import matplotlib.pyplot as plt    # To import matplotlib"
   ]
  },
  {
   "cell_type": "markdown",
   "metadata": {},
   "source": [
    "### Scatter Plot with `matplotlib`\n",
    "\n",
    "To create a scatter plot in `matplotlib` we use the `scatter` method."
   ]
  },
  {
   "cell_type": "code",
   "execution_count": 4,
   "metadata": {},
   "outputs": [
    {
     "data": {
      "text/plain": [
       "Text(0, 0.5, 'Sepal Width')"
      ]
     },
     "execution_count": 4,
     "metadata": {},
     "output_type": "execute_result"
    },
    {
     "data": {
      "image/png": "[encoded data removed]",
      "text/plain": [
       "<Figure size 432x288 with 1 Axes>"
      ]
     },
     "metadata": {
      "needs_background": "light"
     },
     "output_type": "display_data"
    }
   ],
   "source": [
    "# Step 1: Create a figure and axis\n",
    "fig, ax = plt.subplots()\n",
    "\n",
    "# Step 2: Plot sepal_length against the sepal_width (as scatter plot)\n",
    "ax.scatter(iris['sepal_length'], iris['sepal_width'])    # scatter function to create scatter plot\n",
    "\n",
    "# Step 3: Set a Title for the plot and labels for the Axes\n",
    "ax.set_title('Iris')\n",
    "ax.set_xlabel('Sepal Length')\n",
    "ax.set_ylabel('Sepal Width')"
   ]
  },
  {
   "cell_type": "markdown",
   "metadata": {},
   "source": [
    "### Line Chart  with `matplotlib`\n",
    "\n",
    "To create a line chart in `matplotlib` we use the `plot` method. It is possible to plot multiple columns in a single line chart against the same axes."
   ]
  },
  {
   "cell_type": "code",
   "execution_count": 5,
   "metadata": {},
   "outputs": [
    {
     "data": {
      "text/plain": [
       "<matplotlib.legend.Legend at 0x7f93133e1c50>"
      ]
     },
     "execution_count": 5,
     "metadata": {},
     "output_type": "execute_result"
    },
    {
     "data": {
      "image/png": "[encoded data removed]",
      "text/plain": [
       "<Figure size 432x288 with 1 Axes>"
      ]
     },
     "metadata": {
      "needs_background": "light"
     },
     "output_type": "display_data"
    }
   ],
   "source": [
    "# We don't need the class labels, hence drop them\n",
    "columns = iris.columns.drop(['class'])\n",
    "\n",
    "# Create X. To plot multiple columns, it is better to have same X.\n",
    "x_data = range(0, iris.shape[0])\n",
    "\n",
    "# Create the figure with axis\n",
    "fig, ax = plt.subplots()\n",
    "\n",
    "# Let's plot each column\n",
    "for column in columns:\n",
    "    ax.plot(x_data, iris[column], label=column)\n",
    "\n",
    "# Set the chart title and the legend\n",
    "ax.set_title('Iris')\n",
    "ax.legend()"
   ]
  },
  {
   "cell_type": "markdown",
   "metadata": {},
   "source": [
    "### Histogram with `matplotlib`\n",
    "\n",
    "To create a histogram in `matplotlib` we use the `hist` method. For categorical data, the method computes the frequency of occurrence of each class automatically."
   ]
  },
  {
   "cell_type": "code",
   "execution_count": null,
   "metadata": {},
   "outputs": [],
   "source": [
    "# Create the figure and the axis\n",
    "fig, ax = plt.subplots()\n",
    "\n",
    "# Plot the Histogram\n",
    "ax.hist(wine_reviews['points'])\n",
    "\n",
    "# Set the histogram title and axes labels\n",
    "ax.set_title('Scores: Wine Review')\n",
    "ax.set_xlabel('Points')\n",
    "ax.set_ylabel('Frequency')\n",
    "\n",
    "# TASK: Change the number of bins in the histogram and re-plot the histogram"
   ]
  },
  {
   "cell_type": "markdown",
   "metadata": {},
   "source": [
    "### Bar Chart  with `matplotlib`\n",
    "\n",
    "To create a bar chart in `matplotlib` we use the `bar` method. Unlike `hist`, the `bar` method does NOT automatically computes frequency of the data, hence we need to explicitly compute the frequency and pass it to the `bar` method. The bar-chart is a  useful tool for categorical data where number of categories to visualize are not too many."
   ]
  },
  {
   "cell_type": "code",
   "execution_count": 7,
   "metadata": {},
   "outputs": [
    {
     "ename": "NameError",
     "evalue": "name 'wine_reviews' is not defined",
     "output_type": "error",
     "traceback": [
      "\u001b[0;31m---------------------------------------------------------------------------\u001b[0m",
      "\u001b[0;31mNameError\u001b[0m                                 Traceback (most recent call last)",
      "\u001b[0;32m<ipython-input-7-2a9136e45434>\u001b[0m in \u001b[0;36m<module>\u001b[0;34m\u001b[0m\n\u001b[1;32m      3\u001b[0m \u001b[0;34m\u001b[0m\u001b[0m\n\u001b[1;32m      4\u001b[0m \u001b[0;31m# Compute frequency for each class\u001b[0m\u001b[0;34m\u001b[0m\u001b[0;34m\u001b[0m\u001b[0;34m\u001b[0m\u001b[0m\n\u001b[0;32m----> 5\u001b[0;31m \u001b[0mdata\u001b[0m \u001b[0;34m=\u001b[0m \u001b[0mwine_reviews\u001b[0m\u001b[0;34m[\u001b[0m\u001b[0;34m'points'\u001b[0m\u001b[0;34m]\u001b[0m\u001b[0;34m.\u001b[0m\u001b[0mvalue_counts\u001b[0m\u001b[0;34m(\u001b[0m\u001b[0;34m)\u001b[0m\u001b[0;34m\u001b[0m\u001b[0;34m\u001b[0m\u001b[0m\n\u001b[0m\u001b[1;32m      6\u001b[0m \u001b[0;34m\u001b[0m\u001b[0m\n\u001b[1;32m      7\u001b[0m \u001b[0;31m# Prepare X (points) and y (frequency)\u001b[0m\u001b[0;34m\u001b[0m\u001b[0;34m\u001b[0m\u001b[0;34m\u001b[0m\u001b[0m\n",
      "\u001b[0;31mNameError\u001b[0m: name 'wine_reviews' is not defined"
     ]
    },
    {
     "data": {
      "image/png": "[encoded data removed]",
      "text/plain": [
       "<Figure size 432x288 with 1 Axes>"
      ]
     },
     "metadata": {
      "needs_background": "light"
     },
     "output_type": "display_data"
    }
   ],
   "source": [
    "# Create the figure and the axis \n",
    "fig, ax = plt.subplots() \n",
    "\n",
    "# Compute frequency for each class \n",
    "data = wine_reviews['points'].value_counts()\n",
    "\n",
    "# Prepare X (points) and y (frequency) \n",
    "points = data.index \n",
    "frequency = data.values \n",
    "\n",
    "# Create the bar chart \n",
    "ax.bar(points, frequency)\n",
    "\n",
    "# Set the chart title and axes labels \n",
    "ax.set_title('Scores: Wine Review') \n",
    "ax.set_xlabel('Points') \n",
    "ax.set_ylabel('Frequency')"
   ]
  },
  {
   "cell_type": "markdown",
   "metadata": {},
   "source": [
    "___"
   ]
  },
  {
   "cell_type": "markdown",
   "metadata": {},
   "source": [
    "## Plotting with `pandas`\n",
    "\n",
    "`pandas` is also popular Python plotting library. Here we look at creating basic plots with `pandas`. For more elaborated treatment, please refer https://pandas.pydata.org/pandas-docs/stable/user_guide/visualization.html"
   ]
  },
  {
   "cell_type": "markdown",
   "metadata": {},
   "source": [
    "### Scatter Plot with `pandas`\n",
    "\n",
    "To create a scatter plot, invoke `<dataset>.plot.scatter()` and pass it two arguments, \n",
    "- the name of the x-column \n",
    "- the name of the y-column \n",
    "\n",
    "Optionally, we can also pass the function a title for the plot. Let's create a scatter plot on the __Iris__ dataset."
   ]
  },
  {
   "cell_type": "code",
   "execution_count": 8,
   "metadata": {},
   "outputs": [
    {
     "data": {
      "text/plain": [
       "<matplotlib.axes._subplots.AxesSubplot at 0x7fb33b1db6a0>"
      ]
     },
     "execution_count": 8,
     "metadata": {},
     "output_type": "execute_result"
    },
    {
     "data": {
      "image/png": "[encoded data removed]",
      "text/plain": [
       "<Figure size 432x288 with 1 Axes>"
      ]
     },
     "metadata": {
      "needs_background": "light"
     },
     "output_type": "display_data"
    }
   ],
   "source": [
    "iris.plot.scatter(x='sepal_length', y='sepal_width', title='Iris: Sepal Width vs Sepal Length') \n",
    "# X and y labels will be automatically set"
   ]
  },
  {
   "cell_type": "markdown",
   "metadata": {},
   "source": [
    "### Line Chart with `pandas`\n",
    "\n",
    "To create a line-chart, invoke `<dataframe>.plot.line()`. Pandas automatically plots all available numeric columns (we don't have to loop-through each one of them as in `matplotlib`) "
   ]
  },
  {
   "cell_type": "code",
   "execution_count": null,
   "metadata": {},
   "outputs": [],
   "source": [
    "iris.drop(['class'], axis=1).plot.line(title='Iris Dataset') # We don't need the 'class' column for line chart."
   ]
  },
  {
   "cell_type": "markdown",
   "metadata": {},
   "source": [
    "If we have more than one feature Pandas automatically creates a legend for us, as can be seen in the image above."
   ]
  },
  {
   "cell_type": "markdown",
   "metadata": {},
   "source": [
    "### Histogram with `pandas`\n",
    "\n",
    "Invoke the `<dataframe>.plot.hist` method to create a histogram. We can optionally pass the bin size."
   ]
  },
  {
   "cell_type": "code",
   "execution_count": null,
   "metadata": {},
   "outputs": [],
   "source": [
    "wine_reviews['points'].plot.hist()"
   ]
  },
  {
   "cell_type": "code",
   "execution_count": null,
   "metadata": {},
   "outputs": [],
   "source": [
    "# Let's create multiple histograms!\n",
    "# subplots argument specifies a separate plot for each column \n",
    "# layout specifies the number of rows of plots and number of plots per row\n",
    "iris.plot.hist(subplots=True, layout=(3, 2), figsize=(10, 10), bins=20)"
   ]
  },
  {
   "cell_type": "markdown",
   "metadata": {},
   "source": [
    "### Bar Chart with `pandas`\n",
    "\n",
    "To create a bar-chart, use the `plot.bar()` method. However, we need to prepare our data first. We need to,\n",
    "- Count the occurrences of each point using the value_count() method\n",
    "- Sort the occurrences from smallest to largest using the sort_index() method"
   ]
  },
  {
   "cell_type": "code",
   "execution_count": null,
   "metadata": {},
   "outputs": [],
   "source": [
    "wine_reviews['points'].value_counts().sort_index().plot.bar()"
   ]
  },
  {
   "cell_type": "code",
   "execution_count": null,
   "metadata": {},
   "outputs": [],
   "source": [
    "# Let's make a horizontal bar-chart!\n",
    "wine_reviews['points'].value_counts().sort_index().plot.barh()"
   ]
  },
  {
   "cell_type": "markdown",
   "metadata": {},
   "source": [
    "We can also plot other data then the number of occurrences.\n"
   ]
  },
  {
   "cell_type": "code",
   "execution_count": null,
   "metadata": {},
   "outputs": [],
   "source": [
    "# Plot mean price of wine by country, for the 5 countries with highest wine price\n",
    "wine_reviews.groupby(\"country\").price.mean().sort_values(ascending=False)[:5].plot.bar()"
   ]
  },
  {
   "cell_type": "markdown",
   "metadata": {},
   "source": [
    "___"
   ]
  },
  {
   "cell_type": "markdown",
   "metadata": {},
   "source": [
    "## Plotting with `seaborn`\n",
    "\n",
    "`seaborn` is another popular high-level Python data visualization library. Users can easily create graphs with a single line of code. Besides, its standard designs are visually appealing and it works well wth `pandas` data frames.\n",
    "\n",
    "To install `seaborn`, `pip` and `conda` can be used.\n",
    "\n",
    "`pip install seaborn`\n",
    "\n",
    "or\n",
    "\n",
    "`conda install seaborn`"
   ]
  },
  {
   "cell_type": "code",
   "execution_count": null,
   "metadata": {},
   "outputs": [],
   "source": [
    "import seaborn as sns # standard import"
   ]
  },
  {
   "cell_type": "markdown",
   "metadata": {},
   "source": [
    "### Scatter Plot with `seaborn`\n",
    "\n",
    "We use `scatterplot` method to create a scatterplot. In additon to pasing the column names (as in Pandas), we need to pass the data as an argument to the function, as we are not invoking the method on any data object."
   ]
  },
  {
   "cell_type": "code",
   "execution_count": null,
   "metadata": {},
   "outputs": [],
   "source": [
    "sns.scatterplot(x='sepal_length', y='sepal_width', data=iris)"
   ]
  },
  {
   "cell_type": "code",
   "execution_count": null,
   "metadata": {},
   "outputs": [],
   "source": [
    "# Let's highlight the points, with their respective class colors\n",
    "sns.scatterplot(x='sepal_length', y='sepal_width', hue='class', data=iris)"
   ]
  },
  {
   "cell_type": "markdown",
   "metadata": {},
   "source": [
    "### Histogram with `seaborn`\n",
    "\n",
    "`sns.distplot` method is used to visualize a histogram. We need to pass it the column we want to plot and it will calculate the occurrences itself. Optionally we can also pass to the method, the number of bins. By default, the method also plots a gaussian kernel density estimate."
   ]
  },
  {
   "cell_type": "code",
   "execution_count": null,
   "metadata": {},
   "outputs": [],
   "source": [
    "sns.distplot(wine_reviews['points'], bins=10)"
   ]
  },
  {
   "cell_type": "code",
   "execution_count": null,
   "metadata": {},
   "outputs": [],
   "source": [
    "sns.distplot(wine_reviews['points'], bins=20, kde=False)"
   ]
  },
  {
   "cell_type": "markdown",
   "metadata": {},
   "source": [
    "## Bar Chart with `seaborn`\n",
    "\n",
    "It is trivial to create a bar chart with `seaborn`. We call the method `sns.countplot` and pass data to it."
   ]
  },
  {
   "cell_type": "code",
   "execution_count": null,
   "metadata": {},
   "outputs": [],
   "source": [
    "sns.countplot(wine_reviews['points'])"
   ]
  },
  {
   "cell_type": "markdown",
   "metadata": {},
   "source": [
    "___"
   ]
  },
  {
   "cell_type": "markdown",
   "metadata": {},
   "source": [
    "## Other Useful Graphs\n",
    "\n",
    "\n",
    "### Box Plot\n",
    "\n",
    "A Box plot is a graphical method to creatively visualize the five-number summary! Following are the five numbers that are visualized in a box plot,\n",
    "\n",
    "- Minimum: the lowest data point excluding any outliers.\n",
    "- Maximum: the largest data point excluding any outliers.\n",
    "- Median (Q2 / 50th Percentile): the middle value of the dataset.\n",
    "- First quartile (Q1 / 25th Percentile): is also known as the lower quartile qn(0.25) and is the middle value between the smallest number (not the minimum) and the median of the dataset.\n",
    "- Third quartile (Q3 / 75th Percentile): is also known as the upper quartile qn(0.75) and is the middle value between the largest number (not the maximum) and the median of the dataset.\n",
    "\n",
    "With seaborn we create box plots using `boxplot` method"
   ]
  },
  {
   "cell_type": "code",
   "execution_count": null,
   "metadata": {},
   "outputs": [],
   "source": [
    "df = wine_reviews[(wine_reviews['points']>=95) & (wine_reviews['price']<1000)]\n",
    "sns.boxplot('points', 'price', data=df)"
   ]
  },
  {
   "cell_type": "markdown",
   "metadata": {},
   "source": [
    "### Heatmap\n",
    "\n",
    "A heat map (or heatmap) is a graphical representation of data where the individual values contained in a matrix are represented as colors. \"Heat map\" is a newer term but shading matrices have existed for over a century. [Source: Wikipedia]\n",
    "\n",
    "Typical usage of heatmap is to visualize correlationship between two variables/columns/features. By using Pandas, `<dataset>.corr()` we get the correlationship matrix.\n",
    "    \n",
    "Creating heatmap with `seaborn` is trivial, whereas with `matplotlib` it requires a lot of effort."
   ]
  },
  {
   "cell_type": "markdown",
   "metadata": {},
   "source": [
    "__Heatmap with `seaborn`__"
   ]
  },
  {
   "cell_type": "code",
   "execution_count": null,
   "metadata": {},
   "outputs": [],
   "source": [
    "sns.heatmap(iris.corr(), annot=True)   # Very easy!"
   ]
  },
  {
   "cell_type": "markdown",
   "metadata": {},
   "source": [
    "__Heatmap with `matplotlib`__"
   ]
  },
  {
   "cell_type": "code",
   "execution_count": null,
   "metadata": {},
   "outputs": [],
   "source": [
    "# Heatmap without annotations!\n",
    "\n",
    "import numpy as np\n",
    "\n",
    "# get correlation matrix\n",
    "corr = iris.corr()\n",
    "fig, ax = plt.subplots()\n",
    "# create heatmap\n",
    "im = ax.imshow(corr.values)\n",
    "\n",
    "# set labels\n",
    "ax.set_xticks(np.arange(len(corr.columns)))\n",
    "ax.set_yticks(np.arange(len(corr.columns)))\n",
    "ax.set_xticklabels(corr.columns)\n",
    "ax.set_yticklabels(corr.columns)\n",
    "\n",
    "# Rotate the tick labels and set their alignment.\n",
    "plt.setp(ax.get_xticklabels(), rotation=45, ha=\"right\",\n",
    "         rotation_mode=\"anchor\")"
   ]
  },
  {
   "cell_type": "markdown",
   "metadata": {},
   "source": [
    "To add annotations to the heatmap we need to add two for loops:"
   ]
  },
  {
   "cell_type": "code",
   "execution_count": null,
   "metadata": {},
   "outputs": [],
   "source": [
    "# For annotations we need to do more work!\n",
    "\n",
    "# get correlation matrix\n",
    "corr = iris.corr()\n",
    "fig, ax = plt.subplots()\n",
    "# create heatmap\n",
    "im = ax.imshow(corr.values)\n",
    "\n",
    "# set labels\n",
    "ax.set_xticks(np.arange(len(corr.columns)))\n",
    "ax.set_yticks(np.arange(len(corr.columns)))\n",
    "ax.set_xticklabels(corr.columns)\n",
    "ax.set_yticklabels(corr.columns)\n",
    "\n",
    "# Rotate the tick labels and set their alignment.\n",
    "plt.setp(ax.get_xticklabels(), rotation=45, ha=\"right\",\n",
    "         rotation_mode=\"anchor\")\n",
    "\n",
    "# Loop over data dimensions and create text annotations.\n",
    "for i in range(len(corr.columns)):\n",
    "    for j in range(len(corr.columns)):\n",
    "        text = ax.text(j, i, np.around(corr.iloc[i, j], decimals=2),\n",
    "                       ha=\"center\", va=\"center\", color=\"black\")"
   ]
  },
  {
   "cell_type": "markdown",
   "metadata": {},
   "source": [
    "### Pairplot\n",
    "\n",
    "What if we want to plot a grid of pairwise relationships in a dataset? We use `pairplot` for the same. Let's use `seaborn` and `pandas` to visualize a `pairplot`."
   ]
  },
  {
   "cell_type": "code",
   "execution_count": null,
   "metadata": {},
   "outputs": [],
   "source": [
    "sns.pairplot(iris)"
   ]
  },
  {
   "cell_type": "code",
   "execution_count": null,
   "metadata": {},
   "outputs": [],
   "source": [
    "from pandas.plotting import scatter_matrix\n",
    "\n",
    "fig, ax = plt.subplots(figsize=(12,12))\n",
    "scatter_matrix(iris, alpha=1, ax=ax)"
   ]
  },
  {
   "cell_type": "markdown",
   "metadata": {},
   "source": [
    "As seen in the visualizations above, each visualization in the `pairplot` has two features visualized agains each other. The diagonal figures are histograms and rest of plots are scatter plots."
   ]
  },
  {
   "cell_type": "markdown",
   "metadata": {},
   "source": [
    "## Plotting Categorical Data"
   ]
  },
  {
   "cell_type": "markdown",
   "metadata": {},
   "source": [
    "Plots visually express relationship between variables. If one of the main variables in the plot is categorical then we can use specialy plots for better visualization.\n",
    "\n",
    "Seaborn has different types of categorical plots,\n",
    "- Scatterplots (stripplot, swarmplot)\n",
    "- Distribution plots (boxplot, violinplot, boexnplot)\n",
    "- Estimate plots (pointplot, barplot, countplot)\n",
    "\n",
    "We will briefly study `catplot()` that is a high level interface to each of the above plots."
   ]
  },
  {
   "cell_type": "markdown",
   "metadata": {},
   "source": [
    "### Categorical Scatterplot\n",
    "\n",
    "The primary challenge here is that all the points belonging the same category will fall on the same axis corresponding to the category variable. The approach to address this challenge, is to add a small amount of random jitter."
   ]
  },
  {
   "cell_type": "code",
   "execution_count": null,
   "metadata": {},
   "outputs": [],
   "source": [
    "import seaborn as sns\n",
    "import matplotlib.pyplot as plt\n",
    "sns.set(style=\"ticks\", color_codes=True)"
   ]
  },
  {
   "cell_type": "code",
   "execution_count": null,
   "metadata": {},
   "outputs": [],
   "source": [
    "tips = sns.load_dataset(\"tips\")\n",
    "print(tips.head())\n",
    "sns.catplot(x=\"day\", y=\"total_bill\", data=tips)    # this is similar to stripplot"
   ]
  },
  {
   "cell_type": "code",
   "execution_count": null,
   "metadata": {},
   "outputs": [],
   "source": [
    "# Let's suppress the jitter and visualize the same graph\n",
    "# Here the overlapping values are not distinguishable for each category\n",
    "sns.catplot(x=\"day\", y=\"total_bill\", jitter=False, data=tips)"
   ]
  },
  {
   "cell_type": "code",
   "execution_count": null,
   "metadata": {},
   "outputs": [],
   "source": [
    "# Another approach to handle this problem is to adjust overlapping points along the \n",
    "# category variable axis. Gives a better visualization for small datasets\n",
    "sns.catplot(x=\"day\", y=\"total_bill\", kind=\"swarm\", data=tips)"
   ]
  },
  {
   "cell_type": "code",
   "execution_count": null,
   "metadata": {},
   "outputs": [],
   "source": [
    "# Let's add another dimension by using the Hue semantics\n",
    "sns.catplot(x=\"day\", y=\"total_bill\", hue=\"sex\", kind=\"swarm\", data=tips)"
   ]
  },
  {
   "cell_type": "markdown",
   "metadata": {},
   "source": [
    "### Plotting Distributions"
   ]
  },
  {
   "cell_type": "markdown",
   "metadata": {},
   "source": [
    "As the size of the data increases, scatterplots become less useful. We move onto distribution plots in such cases. Boxplot is a type of distribution plot that we have already seen earlier.\n",
    "\n",
    "Let's plot a boxplot with an additional dimension with `catplot()`."
   ]
  },
  {
   "cell_type": "code",
   "execution_count": null,
   "metadata": {},
   "outputs": [],
   "source": [
    "# We add a hue semantic, to get distribution for different types of smokers\n",
    "sns.catplot(x=\"day\", y=\"total_bill\", hue=\"smoker\", kind=\"box\", data=tips)"
   ]
  },
  {
   "cell_type": "markdown",
   "metadata": {},
   "source": [
    "Another type of plot, called __Violin Plot__, gives us richer description (using Kernel Density Estimate) of the distribution of values for category variables. Quartile and whisker values from boxplot are available inside the violin."
   ]
  },
  {
   "cell_type": "code",
   "execution_count": null,
   "metadata": {},
   "outputs": [],
   "source": [
    "# The downside is that the function needs additional parameters to plot the distribution\n",
    "sns.catplot(x=\"total_bill\", y=\"day\", hue=\"sex\", kind=\"violin\", bw=.15, cut=0, data=tips)"
   ]
  },
  {
   "cell_type": "markdown",
   "metadata": {},
   "source": [
    "We can combine `swarmplot()` or `striplot()` with a box plot or violin plot to show each observation along with a summary of the distribution."
   ]
  },
  {
   "cell_type": "code",
   "execution_count": null,
   "metadata": {},
   "outputs": [],
   "source": [
    "g = sns.catplot(x=\"day\", y=\"total_bill\", kind=\"violin\", inner=None, data=tips)\n",
    "sns.swarmplot(x=\"day\", y=\"total_bill\", color=\"k\", size=3, data=tips, ax=g.ax)"
   ]
  },
  {
   "cell_type": "markdown",
   "metadata": {},
   "source": [
    "## Statistical Estimation within Categories"
   ]
  },
  {
   "cell_type": "markdown",
   "metadata": {},
   "source": [
    "Instead of showing distribution within each category, at times we want to display an estimate of the central tendency of the values. There are two main ways to do this,\n",
    "- Bar Plots\n",
    "- Point Plots"
   ]
  },
  {
   "cell_type": "markdown",
   "metadata": {},
   "source": [
    "### Bar Plots"
   ]
  },
  {
   "cell_type": "code",
   "execution_count": null,
   "metadata": {},
   "outputs": [],
   "source": [
    "# Plot of \"Sex\" against statistic estimate (default mean) of the survived people in each class\n",
    "# Plots a bar for each category value alongwith confidence interval\n",
    "titanic = sns.load_dataset(\"titanic\")\n",
    "sns.catplot(x=\"sex\", y=\"survived\", hue=\"class\", kind=\"bar\", data=titanic)"
   ]
  },
  {
   "cell_type": "markdown",
   "metadata": {},
   "source": [
    "### Count Plots"
   ]
  },
  {
   "cell_type": "code",
   "execution_count": null,
   "metadata": {},
   "outputs": [],
   "source": [
    "# Plot histogram of categorical variable (deck)\n",
    "sns.catplot(x=\"deck\", kind=\"count\", palette=\"ch:.25\", data=titanic)"
   ]
  },
  {
   "cell_type": "markdown",
   "metadata": {},
   "source": [
    "### Point Plots"
   ]
  },
  {
   "cell_type": "code",
   "execution_count": null,
   "metadata": {},
   "outputs": [],
   "source": [
    "# Another way to visualize the relationship between category values and statistical estimates\n",
    "# Rather than showing a full bar, it plots the point estimate and confidence interval\n",
    "# Connects points from the same hue category, allowing us to easily visualize how the relationship is \n",
    "# changing as a function of hue semantic\n",
    "sns.catplot(x=\"sex\", y=\"survived\", hue=\"class\", kind=\"point\", data=titanic)"
   ]
  },
  {
   "cell_type": "markdown",
   "metadata": {},
   "source": [
    "## Practice Work\n",
    "\n",
    "Write Python programs to,\n",
    "- Draw multiple lines, with axes labels, chart title, suitable legends and line markers\n",
    "- Plot temperature vs humidity for last 10 days. Beautify the plot!"
   ]
  },
  {
   "cell_type": "markdown",
   "metadata": {},
   "source": [
    "## Source(s)\n",
    "\n",
    "- https://towardsdatascience.com/introduction-to-data-visualization-in-python-89a54c97fbed\n",
    "- https://seaborn.pydata.org/tutorial/categorical.html"
   ]
  }
 ],
 "metadata": {
  "kernelspec": {
   "display_name": "Python 3",
   "language": "python",
   "name": "python3"
  },
  "language_info": {
   "codemirror_mode": {
    "name": "ipython",
    "version": 3
   },
   "file_extension": ".py",
   "mimetype": "text/x-python",
   "name": "python",
   "nbconvert_exporter": "python",
   "pygments_lexer": "ipython3",
   "version": "3.7.3"
  },
  "toc": {
   "base_numbering": 1,
   "nav_menu": {},
   "number_sections": true,
   "sideBar": true,
   "skip_h1_title": false,
   "title_cell": "Table of Contents",
   "title_sidebar": "Contents",
   "toc_cell": false,
   "toc_position": {},
   "toc_section_display": true,
   "toc_window_display": true
  }
 },
 "nbformat": 4,
 "nbformat_minor": 2
}
