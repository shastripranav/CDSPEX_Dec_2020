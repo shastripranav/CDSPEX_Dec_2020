{
 "cells": [
  {
   "cell_type": "markdown",
   "metadata": {},
   "source": [
    "# NumPy"
   ]
  },
  {
   "cell_type": "markdown",
   "metadata": {},
   "source": [
    "## Introduction\n",
    "\n",
    "- NumPy is a general-purpose array-processing package\n",
    "- Travis Oliphant First Released in 1995 (Released as __Numeric__; Changed to NumPy in 2006). It is written in Python and C\n",
    "- NumPy is cross-platform and BSD-licensed. Often used with packages such as Matplotlib (plotting library) and SciPy (Scientific Python). Sometimes it is seen as an alternative to MATLAB. The term ‘Numpy’ is a portmanteau of the words ‘NUMerical’ and ‘PYthon\n",
    "- It is a library that allows end-users to create **high-performance multidimensional array objects** and manipulate these arrays (objects)\n",
    "- NumPy provides a gamut of high-level functions for mathematical and logical operations, Fourier transforms, array shape manipulations, linear algebra operations, random number generation, etc."
   ]
  },
  {
   "cell_type": "markdown",
   "metadata": {},
   "source": [
    "### Examples of Multi-dimensional Arrays\n",
    "\n",
    "* Values of an experiment/simulation at discrete time steps.\n",
    "* Signal recorded by a measurement device, e.g. sound wave.\n",
    "* Pixels of an image, grey-level or colour.\n",
    "* 3D data measured at different X-Y-Z positions, e.g. MRI scan.\n",
    "* ..."
   ]
  },
  {
   "cell_type": "markdown",
   "metadata": {},
   "source": [
    "The most important object defined in NumPy is an N-dimensional array type called ndarray. It describes the collection of items of the same type. Items in the collection can be accessed using a zero-based index.\n",
    "\n",
    "Every item in an ndarray takes the same size of block in the memory. Each element in ndarray is an object of data-type object (called dtype).\n",
    "\n",
    "Any item extracted from ndarray object (by slicing) is represented by a Python object of one of array scalar types.\n",
    "<p><b>The above constructor takes the following parameters −<b></p>\n",
    "\n",
    "<table>\n",
    "    <tr>\n",
    "        <th>Sr.No.</th>\n",
    "        <th>Parameter & Description</th>\n",
    "    <tr>\n",
    "    <tr>\n",
    "        <td>1. object</td>\n",
    "        <td>Any object exposing the array interface method returns an array, or any (nested) sequence.</td>\n",
    "    </tr>\n",
    "    <tr>\n",
    "        <td>2. dtype</td>\n",
    "        <td>Desired data type of array, optional</td>\n",
    "    </tr>\n",
    "    <tr>\n",
    "        <td>3. copy</td>\n",
    "        <td>Optional. By default (true), the object is copied</td>\n",
    "    </tr>\n",
    "    <tr>\n",
    "        <td>4. order</td>\n",
    "        <td>C (row major) or F (column major) or A (any) (default)</td>\n",
    "    </tr>\n",
    "    <tr>\n",
    "        <td>5. subok</td>\n",
    "        <td>By default, returned array forced to be a base class array. If true, sub-classes passed through</td>\n",
    "    </tr>\n",
    "    <tr>\n",
    "        <td>6. ndmin</td>\n",
    "        <td>Specifies minimum dimensions of resultant array</td>\n",
    "    </tr>\n",
    "</table>"
   ]
  },
  {
   "cell_type": "markdown",
   "metadata": {},
   "source": [
    "## Numpy Installation\n",
    "\n",
    "Once you have installed `pip`, i.e., the default python package manager; installing numpy is straightforward.\n",
    "\n",
    "`pip install numpy`"
   ]
  },
  {
   "cell_type": "markdown",
   "metadata": {},
   "source": [
    "## Numpy Import\n",
    "\n",
    "Conventionally, numpy is imported as `np` as shown below"
   ]
  },
  {
   "cell_type": "code",
   "execution_count": 1,
   "metadata": {},
   "outputs": [
    {
     "name": "stdout",
     "output_type": "stream",
     "text": [
      "1.16.4\n"
     ]
    }
   ],
   "source": [
    "import numpy as np\n",
    "print(np.__version__)    # Check the numpy version"
   ]
  },
  {
   "cell_type": "markdown",
   "metadata": {},
   "source": [
    "## Basic Usage"
   ]
  },
  {
   "cell_type": "code",
   "execution_count": 3,
   "metadata": {},
   "outputs": [
    {
     "name": "stdout",
     "output_type": "stream",
     "text": [
      "[[1. 1. 1.]\n",
      " [1. 1. 1.]\n",
      " [1. 1. 1.]]\n"
     ]
    },
    {
     "data": {
      "text/plain": [
       "dtype('float64')"
      ]
     },
     "execution_count": 3,
     "metadata": {},
     "output_type": "execute_result"
    }
   ],
   "source": [
    "# Create a 3 x 3 array, with all elements initialized to 1. Default data type for array is float.\n",
    "b = np.ones((3, 3))\n",
    "print(b)\n",
    "type(b)    # print datatype of b\n",
    "b.dtype    # print datatype of elements in b"
   ]
  },
  {
   "cell_type": "code",
   "execution_count": 8,
   "metadata": {},
   "outputs": [
    {
     "name": "stdout",
     "output_type": "stream",
     "text": [
      "[[1 1 1 1]\n",
      " [1 1 1 1]\n",
      " [1 1 1 1]]\n"
     ]
    },
    {
     "data": {
      "text/plain": [
       "dtype('int64')"
      ]
     },
     "execution_count": 8,
     "metadata": {},
     "output_type": "execute_result"
    }
   ],
   "source": [
    "# Modify the data type of array elements\n",
    "c = np.ones((3, 4), dtype=int)\n",
    "print(c)\n",
    "type(c)\n",
    "c.dtype"
   ]
  },
  {
   "cell_type": "code",
   "execution_count": null,
   "metadata": {},
   "outputs": [],
   "source": [
    "d = np.array([11 + 12j, 13 + 14j, 15 + 16j])    # numpy array with complex data type\n",
    "d.dtype"
   ]
  },
  {
   "cell_type": "code",
   "execution_count": null,
   "metadata": {},
   "outputs": [],
   "source": [
    "e = np.array([False, True, True, False, False, True])    # numpy array with complex data type \n",
    "e.dtype"
   ]
  },
  {
   "cell_type": "code",
   "execution_count": 5,
   "metadata": {},
   "outputs": [
    {
     "data": {
      "text/plain": [
       "dtype('<U7')"
      ]
     },
     "execution_count": 5,
     "metadata": {},
     "output_type": "execute_result"
    }
   ],
   "source": [
    "f = np.array(['Welcome', 'To', 'Numpy'])\n",
    "f.dtype    # Unicode string of 7 characters"
   ]
  },
  {
   "cell_type": "code",
   "execution_count": 10,
   "metadata": {},
   "outputs": [
    {
     "data": {
      "text/plain": [
       "4"
      ]
     },
     "execution_count": 10,
     "metadata": {},
     "output_type": "execute_result"
    }
   ],
   "source": [
    "len(c[0])    # get the length of the array"
   ]
  },
  {
   "cell_type": "code",
   "execution_count": 11,
   "metadata": {},
   "outputs": [
    {
     "data": {
      "text/plain": [
       "(3, 4)"
      ]
     },
     "execution_count": 11,
     "metadata": {},
     "output_type": "execute_result"
    }
   ],
   "source": [
    "c.shape"
   ]
  },
  {
   "cell_type": "code",
   "execution_count": 7,
   "metadata": {},
   "outputs": [
    {
     "name": "stdout",
     "output_type": "stream",
     "text": [
      "[0 1 2 3 4]\n"
     ]
    }
   ],
   "source": [
    "# Shortcut to create an array of numbers\n",
    "ar = np.arange(5)\n",
    "print(ar)"
   ]
  },
  {
   "cell_type": "code",
   "execution_count": 9,
   "metadata": {},
   "outputs": [
    {
     "data": {
      "text/plain": [
       "(1, 3, 4)"
      ]
     },
     "execution_count": 9,
     "metadata": {},
     "output_type": "execute_result"
    }
   ],
   "source": [
    "# Indexing on 1-D array - This is similar to Python lists\n",
    "ar[1], ar[3], ar[-1]"
   ]
  },
  {
   "cell_type": "code",
   "execution_count": 8,
   "metadata": {},
   "outputs": [
    {
     "name": "stdout",
     "output_type": "stream",
     "text": [
      "[10 11 12 13]\n",
      "<class 'numpy.ndarray'>\n",
      "2883611510544\n",
      "2883611510544\n",
      "20\n"
     ]
    }
   ],
   "source": [
    "# Arrays are assigned by reference\n",
    "\n",
    "a = np.array([10, 11, 12, 13]) # create array\n",
    "print(a)       # print a's value\n",
    "print(type(a)) # type of variable a \n",
    "print(id(a))\n",
    "\n",
    "b = a    # reference assignment\n",
    "print(id(b))\n",
    "b[0] = 20\n",
    "print(a[0])"
   ]
  },
  {
   "cell_type": "markdown",
   "metadata": {},
   "source": [
    "## How to Get Help?\n",
    "\n",
    "We encourage you to refer to the help, as often as possible. As it provides in-depth explanation of the functions, its usage and internals. This will help you build better intuition of what's happening behind the scenes. And often, you will need to tweak the arguments to function, specially when dealing with large datasets, to achieve good performance."
   ]
  },
  {
   "cell_type": "code",
   "execution_count": null,
   "metadata": {},
   "outputs": [],
   "source": [
    "help(np.array) # About numpy array"
   ]
  },
  {
   "cell_type": "code",
   "execution_count": null,
   "metadata": {},
   "outputs": [],
   "source": [
    "help('array')  # BTW this is the built-in array and not numpy array"
   ]
  },
  {
   "cell_type": "code",
   "execution_count": null,
   "metadata": {},
   "outputs": [],
   "source": [
    "np.lookfor('array create') # If exact name is not known, search for the topic"
   ]
  },
  {
   "cell_type": "code",
   "execution_count": null,
   "metadata": {},
   "outputs": [],
   "source": [
    "help(np.zeros) # About zeros"
   ]
  },
  {
   "cell_type": "markdown",
   "metadata": {},
   "source": [
    "## NumPy Multi-dimensional Arrays (ndarray)\n",
    "This is one of the most important features of numpy. ndarray is an n-dimensional array, a grid of values of the same data type. To index into this array we have a tuple of nonnegative integers."
   ]
  },
  {
   "cell_type": "code",
   "execution_count": 17,
   "metadata": {},
   "outputs": [
    {
     "name": "stdout",
     "output_type": "stream",
     "text": [
      "A 2-D matrix\n",
      "[[1 2 3]\n",
      " [4 5 6]]\n",
      "Dimensions: 2\n",
      "Shape: (2, 3)\n",
      "Rows: 2\n",
      "Cols: 3\n",
      "==========\n",
      "A 3-D matrix\n",
      "[[[1 2]\n",
      "  [3 4]]\n",
      "\n",
      " [[1 1]\n",
      "  [2 2]]]\n",
      "Dimensions: 3\n",
      "Shape: (2, 2, 2)\n"
     ]
    }
   ],
   "source": [
    "# Create a 2-D matrix, with 2 rows and 3 columns\n",
    "b = np.array([[1, 2, 3], [4, 5, 6]])\n",
    "print(\"A 2-D matrix\")\n",
    "print(b)\n",
    "print(\"Dimensions:\", b.ndim)  # Number of dimensions, 2 (i.e. rows and columns)\n",
    "print(\"Shape:\", b.shape) # Number of elements in each dimension, i.e. number of rows and number of columns\n",
    "print(\"Rows:\", len(b))  # Number of rows\n",
    "print(\"Cols:\", len(b[0])) # Number of columns\n",
    "print(\"==========\")\n",
    "# Creat a 3-D array, with dimensions 2 x 2 x 2. Consider this as a stack of 2 matrices of dimensions 2 x 2\n",
    "c = np.array([\n",
    "    [[1, 2], [3, 4]],    # Matrix of dimension 2 x 2\n",
    "    [[1, 1], [2, 2]]     # Matrix of dimension 2 x 2\n",
    "    ])\n",
    "print(\"A 3-D matrix\")\n",
    "print(c)\n",
    "print(\"Dimensions:\", c.ndim)\n",
    "print(\"Shape:\", c.shape)"
   ]
  },
  {
   "cell_type": "markdown",
   "metadata": {},
   "source": [
    "## Indexing and slicing\n",
    "\n",
    "Indexes are tuples of numbers"
   ]
  },
  {
   "cell_type": "code",
   "execution_count": 83,
   "metadata": {},
   "outputs": [
    {
     "name": "stdout",
     "output_type": "stream",
     "text": [
      "[[0 0 0]\n",
      " [0 1 0]\n",
      " [0 0 2]]\n"
     ]
    },
    {
     "data": {
      "text/plain": [
       "1"
      ]
     },
     "execution_count": 83,
     "metadata": {},
     "output_type": "execute_result"
    }
   ],
   "source": [
    "a = np.diag(np.arange(3))   # create a 3 by 3 array with diagonal elements set to 0, 1, 2\n",
    "print(a)\n",
    "a[1, 1]    # Indexing starts with 0. Here we are slicing one element in the second row and second column. We used a tuple 1, 1"
   ]
  },
  {
   "cell_type": "code",
   "execution_count": 21,
   "metadata": {},
   "outputs": [
    {
     "data": {
      "text/plain": [
       "array([[ 0,  0,  0],\n",
       "       [ 0,  1,  0],\n",
       "       [ 0, 10,  2]])"
      ]
     },
     "execution_count": 21,
     "metadata": {},
     "output_type": "execute_result"
    }
   ],
   "source": [
    "a[2, 1] = 10 # Update array element\n",
    "a"
   ]
  },
  {
   "cell_type": "code",
   "execution_count": 84,
   "metadata": {},
   "outputs": [
    {
     "name": "stdout",
     "output_type": "stream",
     "text": [
      "[[0 1]\n",
      " [0 0]]\n"
     ]
    }
   ],
   "source": [
    "print(a[1:, 0:2])  # We can use slicing concepts for all the dimensions!"
   ]
  },
  {
   "cell_type": "code",
   "execution_count": 24,
   "metadata": {},
   "outputs": [
    {
     "name": "stdout",
     "output_type": "stream",
     "text": [
      "[0 1 2 3 4 5 6 7 8 9]\n"
     ]
    },
    {
     "data": {
      "text/plain": [
       "array([0, 1, 2, 3])"
      ]
     },
     "execution_count": 24,
     "metadata": {},
     "output_type": "execute_result"
    }
   ],
   "source": [
    "ar = np.arange(10)\n",
    "print(ar)\n",
    "ar[:4]    # Slice, starting from zero and ending at three"
   ]
  },
  {
   "cell_type": "code",
   "execution_count": 25,
   "metadata": {},
   "outputs": [
    {
     "data": {
      "text/plain": [
       "array([0, 2, 4, 6, 8])"
      ]
     },
     "execution_count": 25,
     "metadata": {},
     "output_type": "execute_result"
    }
   ],
   "source": [
    "ar[::2]    # Slice every second element, starting from 0"
   ]
  },
  {
   "cell_type": "markdown",
   "metadata": {},
   "source": [
    "## Transpose"
   ]
  },
  {
   "cell_type": "code",
   "execution_count": 2,
   "metadata": {},
   "outputs": [
    {
     "name": "stdout",
     "output_type": "stream",
     "text": [
      "Help on function transpose in module numpy:\n",
      "\n",
      "transpose(a, axes=None)\n",
      "    Permute the dimensions of an array.\n",
      "    \n",
      "    Parameters\n",
      "    ----------\n",
      "    a : array_like\n",
      "        Input array.\n",
      "    axes : list of ints, optional\n",
      "        By default, reverse the dimensions, otherwise permute the axes\n",
      "        according to the values given.\n",
      "    \n",
      "    Returns\n",
      "    -------\n",
      "    p : ndarray\n",
      "        `a` with its axes permuted.  A view is returned whenever\n",
      "        possible.\n",
      "    \n",
      "    See Also\n",
      "    --------\n",
      "    moveaxis\n",
      "    argsort\n",
      "    \n",
      "    Notes\n",
      "    -----\n",
      "    Use `transpose(a, argsort(axes))` to invert the transposition of tensors\n",
      "    when using the `axes` keyword argument.\n",
      "    \n",
      "    Transposing a 1-D array returns an unchanged view of the original array.\n",
      "    \n",
      "    Examples\n",
      "    --------\n",
      "    >>> x = np.arange(4).reshape((2,2))\n",
      "    >>> x\n",
      "    array([[0, 1],\n",
      "           [2, 3]])\n",
      "    \n",
      "    >>> np.transpose(x)\n",
      "    array([[0, 2],\n",
      "           [1, 3]])\n",
      "    \n",
      "    >>> x = np.ones((1, 2, 3))\n",
      "    >>> np.transpose(x, (1, 0, 2)).shape\n",
      "    (2, 1, 3)\n",
      "\n"
     ]
    }
   ],
   "source": [
    "import numpy as np\n",
    "help(np.transpose)"
   ]
  },
  {
   "cell_type": "code",
   "execution_count": 3,
   "metadata": {},
   "outputs": [
    {
     "name": "stdout",
     "output_type": "stream",
     "text": [
      "Array shape: (2, 3)\n",
      "[[1 2 3]\n",
      " [4 5 6]]\n",
      "Transpose array shape: (3, 2)\n",
      "[[1 4]\n",
      " [2 5]\n",
      " [3 6]]\n"
     ]
    }
   ],
   "source": [
    "arr = np.array([[1, 2, 3], [4, 5, 6]])\n",
    "print(\"Array shape:\", arr.shape)\n",
    "print(arr)\n",
    "arr_transp = np.transpose(arr)\n",
    "print(\"Transpose array shape:\", arr_transp.shape)\n",
    "print(arr_transp)\n",
    "# + np.transpose([np.arange(0, 51, 10)])"
   ]
  },
  {
   "cell_type": "markdown",
   "metadata": {},
   "source": [
    "## Updating Array Values"
   ]
  },
  {
   "cell_type": "code",
   "execution_count": 4,
   "metadata": {},
   "outputs": [
    {
     "name": "stdout",
     "output_type": "stream",
     "text": [
      "[[1 2 3]\n",
      " [4 2 6]]\n",
      "[[1 4]\n",
      " [2 2]\n",
      " [3 6]]\n"
     ]
    }
   ],
   "source": [
    "arr[1][1] = 2\n",
    "print(arr)    # value 5 is updated by 2\n",
    "\n",
    "arr_transp[1, 1] = 2  # value 5 updated by 2\n",
    "print(arr_transp)"
   ]
  },
  {
   "cell_type": "markdown",
   "metadata": {},
   "source": [
    "## Total Number of Elements in the Array"
   ]
  },
  {
   "cell_type": "code",
   "execution_count": 40,
   "metadata": {
    "collapsed": true
   },
   "outputs": [
    {
     "name": "stdout",
     "output_type": "stream",
     "text": [
      "Help on function size in module numpy:\n",
      "\n",
      "size(a, axis=None)\n",
      "    Return the number of elements along a given axis.\n",
      "    \n",
      "    Parameters\n",
      "    ----------\n",
      "    a : array_like\n",
      "        Input data.\n",
      "    axis : int, optional\n",
      "        Axis along which the elements are counted.  By default, give\n",
      "        the total number of elements.\n",
      "    \n",
      "    Returns\n",
      "    -------\n",
      "    element_count : int\n",
      "        Number of elements along the specified axis.\n",
      "    \n",
      "    See Also\n",
      "    --------\n",
      "    shape : dimensions of array\n",
      "    ndarray.shape : dimensions of array\n",
      "    ndarray.size : number of elements in array\n",
      "    \n",
      "    Examples\n",
      "    --------\n",
      "    >>> a = np.array([[1,2,3],[4,5,6]])\n",
      "    >>> np.size(a)\n",
      "    6\n",
      "    >>> np.size(a,1)\n",
      "    3\n",
      "    >>> np.size(a,0)\n",
      "    2\n",
      "\n"
     ]
    }
   ],
   "source": [
    "import numpy as np \n",
    "help(np.size)"
   ]
  },
  {
   "cell_type": "code",
   "execution_count": 5,
   "metadata": {},
   "outputs": [
    {
     "data": {
      "text/plain": [
       "6"
      ]
     },
     "execution_count": 5,
     "metadata": {},
     "output_type": "execute_result"
    }
   ],
   "source": [
    "arr.size "
   ]
  },
  {
   "cell_type": "code",
   "execution_count": 6,
   "metadata": {},
   "outputs": [
    {
     "data": {
      "text/plain": [
       "(2, 3)"
      ]
     },
     "execution_count": 6,
     "metadata": {},
     "output_type": "execute_result"
    }
   ],
   "source": [
    "arr.shape"
   ]
  },
  {
   "cell_type": "markdown",
   "metadata": {},
   "source": [
    "## Array of Random Numbers"
   ]
  },
  {
   "cell_type": "code",
   "execution_count": null,
   "metadata": {},
   "outputs": [],
   "source": [
    "import numpy as np\n",
    "help(np.random.random)"
   ]
  },
  {
   "cell_type": "code",
   "execution_count": 41,
   "metadata": {},
   "outputs": [
    {
     "name": "stdout",
     "output_type": "stream",
     "text": [
      "[[0.63776061 0.49415294 0.11265457]\n",
      " [0.31666149 0.74793493 0.59006333]\n",
      " [0.58650475 0.12931283 0.40211594]]\n"
     ]
    }
   ],
   "source": [
    "nr = np.random.random((3, 3)) # 2 dimensional array of 3 rows and 3 columns with random numbers \n",
    "# Elements in array are randomly generated using the random function.\n",
    "print(nr)      "
   ]
  },
  {
   "cell_type": "code",
   "execution_count": null,
   "metadata": {},
   "outputs": [],
   "source": [
    "# TRY THIS OUT!\n",
    "# a = np.random.random((1000, 1000))  # It will create an array of size 1k by 1k with random values inside it \n",
    "# print(a)"
   ]
  },
  {
   "cell_type": "markdown",
   "metadata": {},
   "source": [
    "## Array Functions"
   ]
  },
  {
   "cell_type": "markdown",
   "metadata": {},
   "source": [
    "### `np.ones()`\n",
    "\n",
    "Returns a new array of given shape and data type, where all the elements are set to 1.\n",
    "\n",
    "`ones(shape, dtype=None, order='C')`\n",
    "\n",
    "The shape is an int or tuple of ints to define the size of the array. If we just specify an int variable, a one-dimensional array will be returned. For a tuple of ints, the array of given shape will be returned.<br>\n",
    "The dtype is an optional parameter with default value as a float. It’s used to specify the data type of the array, for example, int. <br>\n",
    "The order defines the whether to store multi-dimensional array in row-major (C-style) or column-major (Fortran-style) order in memory."
   ]
  },
  {
   "cell_type": "code",
   "execution_count": null,
   "metadata": {},
   "outputs": [],
   "source": [
    "help(np.ones)"
   ]
  },
  {
   "cell_type": "code",
   "execution_count": 43,
   "metadata": {},
   "outputs": [
    {
     "name": "stdout",
     "output_type": "stream",
     "text": [
      "[[1. 1.]\n",
      " [1. 1.]\n",
      " [1. 1.]]\n"
     ]
    }
   ],
   "source": [
    "c = np.ones((3, 2))\n",
    "print(c)"
   ]
  },
  {
   "cell_type": "markdown",
   "metadata": {},
   "source": [
    "### `np.zeros()`\n",
    "\n",
    "It is identical to `np.ones()`, except that all the elements are initialized to zero."
   ]
  },
  {
   "cell_type": "code",
   "execution_count": null,
   "metadata": {},
   "outputs": [],
   "source": [
    "import numpy as np\n",
    "help(np.zeros)"
   ]
  },
  {
   "cell_type": "code",
   "execution_count": 44,
   "metadata": {},
   "outputs": [
    {
     "name": "stdout",
     "output_type": "stream",
     "text": [
      "[[0. 0. 0.]\n",
      " [0. 0. 0.]]\n"
     ]
    }
   ],
   "source": [
    "d = np.zeros((2, 3))\n",
    "print(d)"
   ]
  },
  {
   "cell_type": "markdown",
   "metadata": {},
   "source": [
    "### `np.eye()`\n",
    "\n",
    "Returns an array where all the elements are equal to zero, except diagonal elements that are initialized to 1."
   ]
  },
  {
   "cell_type": "code",
   "execution_count": null,
   "metadata": {},
   "outputs": [],
   "source": [
    "import numpy as np\n",
    "help(np.eye)"
   ]
  },
  {
   "cell_type": "code",
   "execution_count": 45,
   "metadata": {},
   "outputs": [
    {
     "name": "stdout",
     "output_type": "stream",
     "text": [
      "[[1. 0. 0.]\n",
      " [0. 1. 0.]\n",
      " [0. 0. 1.]]\n"
     ]
    }
   ],
   "source": [
    "e = np.eye((3))  # This creates the popularly known Identity Matrix!\n",
    "print(e)"
   ]
  },
  {
   "cell_type": "code",
   "execution_count": 47,
   "metadata": {},
   "outputs": [
    {
     "name": "stdout",
     "output_type": "stream",
     "text": [
      "[[1. 0. 0. 0. 0.]\n",
      " [0. 1. 0. 0. 0.]\n",
      " [0. 0. 1. 0. 0.]\n",
      " [0. 0. 0. 1. 0.]\n",
      " [0. 0. 0. 0. 1.]]\n",
      "\n",
      "[[1. 0. 0.]\n",
      " [0. 1. 0.]]\n",
      "\n",
      "[[1. 0. 0.]\n",
      " [0. 1. 0.]\n",
      " [0. 0. 1.]]\n",
      "\n",
      "[[0. 0. 0. 0.]\n",
      " [0. 0. 0. 0.]\n",
      " [0. 0. 0. 0.]\n",
      " [1. 0. 0. 0.]]\n",
      "\n",
      "[[0. 0. 1. 0. 0.]\n",
      " [0. 0. 0. 1. 0.]\n",
      " [0. 0. 0. 0. 1.]\n",
      " [0. 0. 0. 0. 0.]\n",
      " [0. 0. 0. 0. 0.]]\n",
      "\n",
      "[[1. 0. 0.]\n",
      " [0. 1. 0.]]\n",
      "\n",
      "[[1 0 0 0 0]\n",
      " [0 1 0 0 0]\n",
      " [0 0 1 0 0]\n",
      " [0 0 0 1 0]\n",
      " [0 0 0 0 1]]\n"
     ]
    }
   ],
   "source": [
    "# Different dimensions of arrays created with np.eye\n",
    "print(np.eye(5))\n",
    "print()\n",
    "print(np.eye(2,3))\n",
    "print()\n",
    "print(np.eye(3,3))\n",
    "print()\n",
    "print(np.eye(4, k=-3))\n",
    "print()\n",
    "print(np.eye(5, k=2))\n",
    "print()\n",
    "print(np.eye(2, 3))\n",
    "print()\n",
    "print(np.eye(5, dtype=int))"
   ]
  },
  {
   "cell_type": "markdown",
   "metadata": {},
   "source": [
    "### `full()`\n",
    "Returns a new array with the same shape and type as a given, filled with the fill_value.\n",
    "    \n",
    "Syntax:\n",
    "\n",
    "`full(shape, fill_value, dtype = None, order = 'C')`"
   ]
  },
  {
   "cell_type": "code",
   "execution_count": null,
   "metadata": {},
   "outputs": [],
   "source": [
    "help(np.full)"
   ]
  },
  {
   "cell_type": "code",
   "execution_count": 49,
   "metadata": {},
   "outputs": [
    {
     "name": "stdout",
     "output_type": "stream",
     "text": [
      "[[7 7 7 7]\n",
      " [7 7 7 7]\n",
      " [7 7 7 7]\n",
      " [7 7 7 7]\n",
      " [7 7 7 7]]\n"
     ]
    }
   ],
   "source": [
    "e = np.full((5, 4), 7) # Matrix of constant numbers\n",
    "print(e)"
   ]
  },
  {
   "cell_type": "markdown",
   "metadata": {},
   "source": [
    "### `np.linspace()`\n",
    "\n",
    "Returns number spaces evenly w.r.t the given interval start and stop. This functions is similar to arange but instead of step size it uses a sample number.\n",
    "\n",
    "Syntax:\n",
    "\n",
    "`numpy.linspace(start, stop, num = 50, endpoint = True, retstep = False, dtype = None)"
   ]
  },
  {
   "cell_type": "code",
   "execution_count": null,
   "metadata": {},
   "outputs": [],
   "source": [
    "import numpy as np \n",
    "help(np.linspace)"
   ]
  },
  {
   "cell_type": "code",
   "execution_count": 50,
   "metadata": {},
   "outputs": [
    {
     "name": "stdout",
     "output_type": "stream",
     "text": [
      "[ 1.  4.  7. 10.]\n"
     ]
    }
   ],
   "source": [
    "f = np.linspace(1, 10, 4) # Generate 4 equally spaced values between 1 and 10\n",
    "print(f)"
   ]
  },
  {
   "cell_type": "code",
   "execution_count": 52,
   "metadata": {},
   "outputs": [
    {
     "name": "stdout",
     "output_type": "stream",
     "text": [
      "(array([1.        , 1.02040816, 1.04081633, 1.06122449, 1.08163265,\n",
      "       1.10204082, 1.12244898, 1.14285714, 1.16326531, 1.18367347,\n",
      "       1.20408163, 1.2244898 , 1.24489796, 1.26530612, 1.28571429,\n",
      "       1.30612245, 1.32653061, 1.34693878, 1.36734694, 1.3877551 ,\n",
      "       1.40816327, 1.42857143, 1.44897959, 1.46938776, 1.48979592,\n",
      "       1.51020408, 1.53061224, 1.55102041, 1.57142857, 1.59183673,\n",
      "       1.6122449 , 1.63265306, 1.65306122, 1.67346939, 1.69387755,\n",
      "       1.71428571, 1.73469388, 1.75510204, 1.7755102 , 1.79591837,\n",
      "       1.81632653, 1.83673469, 1.85714286, 1.87755102, 1.89795918,\n",
      "       1.91836735, 1.93877551, 1.95918367, 1.97959184, 2.        ]), 0.02040816326530612)\n",
      "\n",
      "(array([  1.  ,  25.75,  50.5 ,  75.25, 100.  ]), 24.75)\n",
      "\n",
      "(array([ 1. , 20.8, 40.6, 60.4, 80.2]), 19.8)\n",
      "1.0\n"
     ]
    },
    {
     "data": {
      "text/plain": [
       "array([  1,  25,  50,  75, 100])"
      ]
     },
     "execution_count": 52,
     "metadata": {},
     "output_type": "execute_result"
    }
   ],
   "source": [
    "# Sample other variations of linspace\n",
    "print(np.linspace(1, 2, retstep=True))\n",
    "print()\n",
    "print(np.linspace(1, 100, num=5, retstep=True))\n",
    "print()\n",
    "a = np.linspace(1, 100, num=5, endpoint=False, retstep=True)\n",
    "print(a)\n",
    "print(a[0][0])\n",
    "np.linspace(1, 100, num=5, retstep=True)\n",
    "np.linspace(1, 100, num=5, dtype=int)"
   ]
  },
  {
   "cell_type": "markdown",
   "metadata": {},
   "source": [
    "### `np.empty()`\n",
    "\n",
    "Return a new array of given shape and type, without initializing entries."
   ]
  },
  {
   "cell_type": "code",
   "execution_count": null,
   "metadata": {},
   "outputs": [],
   "source": [
    "import numpy as np\n",
    "help(np.empty)"
   ]
  },
  {
   "cell_type": "code",
   "execution_count": 57,
   "metadata": {},
   "outputs": [
    {
     "name": "stdout",
     "output_type": "stream",
     "text": [
      "[[         0 1072693248]\n",
      " [         0 1072693248]]\n"
     ]
    }
   ],
   "source": [
    "# empty, unlike zeros,it does not set the array values to zero\n",
    "g1 = np.empty([2, 2], dtype=int) # Creates an empty array \n",
    "print(g1)"
   ]
  },
  {
   "cell_type": "markdown",
   "metadata": {},
   "source": [
    "### Minimum Dimensions\n",
    "\n",
    "Specifies minimum dimensions of the resultant array"
   ]
  },
  {
   "cell_type": "code",
   "execution_count": 60,
   "metadata": {},
   "outputs": [
    {
     "name": "stdout",
     "output_type": "stream",
     "text": [
      "[[[1 2 3]]]\n",
      "3\n",
      "[1 2 3]\n",
      "1\n"
     ]
    }
   ],
   "source": [
    "h = np.array([1, 2, 3], ndmin=3) # ndmin provides minimum dimension\n",
    "print(h)\n",
    "print(h.ndim)\n",
    "h = np.array([1, 2, 3]) # ndmin provides minimum dimension\n",
    "print(h)\n",
    "print(h.ndim)"
   ]
  },
  {
   "cell_type": "markdown",
   "metadata": {},
   "source": [
    "### Complex Datatype "
   ]
  },
  {
   "cell_type": "code",
   "execution_count": 62,
   "metadata": {},
   "outputs": [
    {
     "name": "stdout",
     "output_type": "stream",
     "text": [
      "[1.+0.j 3.+0.j 4.+0.j]\n",
      "[1 3 4]\n"
     ]
    }
   ],
   "source": [
    "i = np.array([1, 3, 4], dtype=complex) # It creates the array with the complex values.\n",
    "print(i)\n",
    "i = np.array([1, 3, 4]) # If datatype is not provided then numpy decides the datatype for us.\n",
    "print(i)"
   ]
  },
  {
   "cell_type": "markdown",
   "metadata": {},
   "source": [
    "### reshape()"
   ]
  },
  {
   "cell_type": "code",
   "execution_count": null,
   "metadata": {},
   "outputs": [],
   "source": [
    "import numpy as np\n",
    "help(np.reshape)"
   ]
  },
  {
   "cell_type": "code",
   "execution_count": 64,
   "metadata": {},
   "outputs": [
    {
     "name": "stdout",
     "output_type": "stream",
     "text": [
      "[[1 2 3]\n",
      " [4 5 6]]\n",
      "[[1 2]\n",
      " [3 4]\n",
      " [5 6]]\n"
     ]
    }
   ],
   "source": [
    "j = np.array([[1, 2, 3], [4, 5, 6]])\n",
    "print(j)\n",
    "print(j.reshape(3,2)) # It will change the shape of the array with 3 rows and two columns"
   ]
  },
  {
   "cell_type": "markdown",
   "metadata": {},
   "source": [
    "### Creating a Row or Column Vector"
   ]
  },
  {
   "cell_type": "code",
   "execution_count": 66,
   "metadata": {},
   "outputs": [
    {
     "name": "stdout",
     "output_type": "stream",
     "text": [
      "Row vector:  [1 2 3]\n",
      "Column vector  [[4]\n",
      " [5]\n",
      " [6]]\n"
     ]
    }
   ],
   "source": [
    "vec_row = np.array([1, 2, 3])\n",
    "vec_col = np.array([[4], [5], [6]])\n",
    "print(\"Row vector: \", vec_row)\n",
    "print(\"Column vector \", vec_col)"
   ]
  },
  {
   "cell_type": "markdown",
   "metadata": {},
   "source": [
    "### Create a Matrix with `np.mat()`"
   ]
  },
  {
   "cell_type": "code",
   "execution_count": null,
   "metadata": {},
   "outputs": [],
   "source": [
    "help(np.mat)"
   ]
  },
  {
   "cell_type": "code",
   "execution_count": 70,
   "metadata": {},
   "outputs": [
    {
     "name": "stdout",
     "output_type": "stream",
     "text": [
      "[[1 2]\n",
      " [3 4]\n",
      " [5 6]]\n",
      "<class 'numpy.ndarray'>\n",
      "[[1 2]\n",
      " [3 4]\n",
      " [5 6]]\n",
      "<class 'numpy.matrix'>\n"
     ]
    }
   ],
   "source": [
    "matrix = np.array([[1,2],[3,4],[5,6]])\n",
    "print(matrix)\n",
    "print(type(matrix))\n",
    "\n",
    "matrix = np.mat([[1,2],[3,4],[5,6]])\n",
    "print(matrix)\n",
    "print(type(matrix))"
   ]
  },
  {
   "cell_type": "markdown",
   "metadata": {},
   "source": [
    "### Creating a Sparse Matrix\n",
    "\n",
    "For many problems with large datasets, we may have to create sparse matrices, where a lot of element values are missing (not available)."
   ]
  },
  {
   "cell_type": "code",
   "execution_count": 71,
   "metadata": {},
   "outputs": [
    {
     "name": "stdout",
     "output_type": "stream",
     "text": [
      "[[1 1]\n",
      " [2 2]\n",
      " [3 3]]\n",
      "  (0, 0)\t1\n",
      "  (0, 1)\t1\n",
      "  (1, 0)\t2\n",
      "  (1, 1)\t2\n",
      "  (2, 0)\t3\n",
      "  (2, 1)\t3\n"
     ]
    }
   ],
   "source": [
    "from scipy import sparse\n",
    "matrix = np.mat([[1,1],[2,2],[3,3]])\n",
    "print(matrix)\n",
    "\n",
    "sparse_matrix = sparse.csr_matrix(matrix) # It is a compressed Sparse matrix \n",
    "print(sparse_matrix) # The output will have the position of the element and the element too"
   ]
  },
  {
   "cell_type": "markdown",
   "metadata": {},
   "source": [
    "## Copies and Views\n",
    "\n",
    "* Slicing creates a *view*, not a copy\n",
    "* Modifying a view also modifies the original\n",
    "* You can force a copy with `.copy()`"
   ]
  },
  {
   "cell_type": "code",
   "execution_count": 7,
   "metadata": {},
   "outputs": [
    {
     "data": {
      "text/plain": [
       "(array([0, 1, 2, 3, 4, 5, 6, 7, 8, 9]), array([0, 2, 4, 6, 8]))"
      ]
     },
     "execution_count": 7,
     "metadata": {},
     "output_type": "execute_result"
    }
   ],
   "source": [
    "a = np.arange(10)\n",
    "b = a[::2]    # This is a view\n",
    "a, b"
   ]
  },
  {
   "cell_type": "code",
   "execution_count": 76,
   "metadata": {},
   "outputs": [
    {
     "data": {
      "text/plain": [
       "(array([14,  1,  2,  3,  4,  5,  6,  7,  8,  9]), array([14,  2,  4,  6,  8]))"
      ]
     },
     "execution_count": 76,
     "metadata": {},
     "output_type": "execute_result"
    }
   ],
   "source": [
    "b[0] = 14    # Modify the view and the original also gets affected\n",
    "a, b"
   ]
  },
  {
   "cell_type": "code",
   "execution_count": 77,
   "metadata": {},
   "outputs": [
    {
     "data": {
      "text/plain": [
       "(array([0, 1, 2, 3, 4, 5, 6, 7, 8, 9]), array([14,  2,  4,  6,  8]))"
      ]
     },
     "execution_count": 77,
     "metadata": {},
     "output_type": "execute_result"
    }
   ],
   "source": [
    "a = np.arange(10)\n",
    "b = a[::2].copy()  # This creates a new copy of the array\n",
    "b[0] = 14          # This update doesn't impact the original\n",
    "a, b"
   ]
  },
  {
   "cell_type": "markdown",
   "metadata": {},
   "source": [
    "### Conditional and Logical Selection"
   ]
  },
  {
   "cell_type": "code",
   "execution_count": 79,
   "metadata": {},
   "outputs": [
    {
     "data": {
      "text/plain": [
       "array([[False, False, False,  True],\n",
       "       [ True,  True, False, False],\n",
       "       [False, False,  True, False]])"
      ]
     },
     "execution_count": 79,
     "metadata": {},
     "output_type": "execute_result"
    }
   ],
   "source": [
    "# Conditional and Logical selection \n",
    "ar = [[34, 23, 56, 78], [76, 98, 6, 3], [23, 54, 77, 45]]\n",
    "ar = np.array(ar)\n",
    "ar > 60 # Compares each element in the array with the number 60 and returns true / false"
   ]
  },
  {
   "cell_type": "code",
   "execution_count": 81,
   "metadata": {},
   "outputs": [
    {
     "name": "stdout",
     "output_type": "stream",
     "text": [
      "[78 76 98 77]\n",
      "[34 56 54 45]\n"
     ]
    }
   ],
   "source": [
    "# The good part is that we can use the above result and get the elements that are > 60\n",
    "print(ar[(ar > 60)])    # Get all the values that are greater than 60\n",
    "\n",
    "print(ar[(ar > 30) & (ar < 60)])    # We can have logical operations to generate index of elements to retrieve from the array"
   ]
  },
  {
   "cell_type": "code",
   "execution_count": 90,
   "metadata": {},
   "outputs": [
    {
     "name": "stdout",
     "output_type": "stream",
     "text": [
      "[[23 54 65 77]]\n",
      "[[40 40 40 77]]\n"
     ]
    }
   ],
   "source": [
    "# Broadcasting: to change multiple elements at once\n",
    "arr3 = np.array([[23, 54, 65, 77]])\n",
    "print(arr3)\n",
    "arr3[:1,:3] = 40\n",
    "print(arr3)"
   ]
  },
  {
   "cell_type": "markdown",
   "metadata": {},
   "source": [
    "## Operations on Matrix Elements"
   ]
  },
  {
   "cell_type": "code",
   "execution_count": 93,
   "metadata": {},
   "outputs": [
    {
     "data": {
      "text/plain": [
       "matrix([[101, 102, 103],\n",
       "        [103, 104, 102],\n",
       "        [104, 104, 106]])"
      ]
     },
     "execution_count": 93,
     "metadata": {},
     "output_type": "execute_result"
    }
   ],
   "source": [
    "matrix = np.mat([[1, 2, 3], [3, 4, 2], [4, 4, 6]])\n",
    "add_100 = lambda i: i + 100\n",
    "vectorized_mat = np.vectorize(add_100) # create a vectorize variable\n",
    "vectorized_mat(matrix) # Apply the vectorization effect on the defined matrix"
   ]
  },
  {
   "cell_type": "markdown",
   "metadata": {},
   "source": [
    "### Finding Maximum and Minimum Values\n"
   ]
  },
  {
   "cell_type": "code",
   "execution_count": 94,
   "metadata": {},
   "outputs": [
    {
     "name": "stdout",
     "output_type": "stream",
     "text": [
      "Max: 9\n",
      "Min: 1\n"
     ]
    }
   ],
   "source": [
    "matrix = np.mat([[1, 2, 3], [3, 5, 4], [9, 8, 7]])\n",
    "print(\"Max:\", np.max(matrix))    # Returns the maximum element of the matrix\n",
    "print(\"Min:\", np.min(matrix))    # Returns the minimum elemnt of the matrix"
   ]
  },
  {
   "cell_type": "markdown",
   "metadata": {},
   "source": [
    "### Applying Operations along a Specific Axis\n",
    "Using the axis parameter we can also apply the operation along a certain axis:<br>\n",
    "axis=0 means on each column <br>\n",
    "axis=1 means on each row"
   ]
  },
  {
   "cell_type": "code",
   "execution_count": 95,
   "metadata": {},
   "outputs": [
    {
     "name": "stdout",
     "output_type": "stream",
     "text": [
      "[[1 2 3]\n",
      " [0 1 2]\n",
      " [3 0 2]]\n",
      "Max (axis=0): [[3 2 3]]\n",
      "Max (axis=1): [[3]\n",
      " [2]\n",
      " [3]]\n"
     ]
    }
   ],
   "source": [
    "matrix = np.mat([[1, 2, 3], [0, 1, 2], [3, 0, 2]])\n",
    "print(matrix)\n",
    "print(\"Max (axis=0):\", np.max(matrix, axis=0))# Returns the maximum element of each row\n",
    "print(\"Max (axis=1):\", np.max(matrix, axis=1))"
   ]
  },
  {
   "cell_type": "markdown",
   "metadata": {},
   "source": [
    "### Calculating Average Variance and Standard Deviation "
   ]
  },
  {
   "cell_type": "code",
   "execution_count": null,
   "metadata": {},
   "outputs": [],
   "source": [
    "import numpy as np\n",
    "matrix=np.array([[1,2,3],[6,4,5],[8,9,7]])\n",
    "print(\"The mean of the matrix is :\" ,np.mean(matrix))# It will give the mean of the matrix\n",
    "print()\n",
    "print(\"The variance of the matrix is :\" ,np.var(matrix))# It will give the variance of the matrix\n",
    "print()\n",
    "print(\"The standard deviation of the matrix is :\" ,np.std(matrix))# It will give the standard Deviation of the matrix"
   ]
  },
  {
   "cell_type": "markdown",
   "metadata": {},
   "source": [
    "### Reshaping of the arrays or matrix"
   ]
  },
  {
   "cell_type": "code",
   "execution_count": null,
   "metadata": {},
   "outputs": [],
   "source": [
    "import numpy as np\n",
    "matrix=np.array([[1,2,3],[4,5,6],[7,8,9],[10,11,12]])\n",
    "print(matrix.reshape(6,2))# Change the shape of the matrix\n",
    "print()\n",
    "print(matrix.reshape(2,6))# Change the shape of the matrix\n",
    "print()\n",
    "print(matrix.reshape(1, -1))# Change it to 2 D row array\n",
    "print()\n",
    "print(matrix.reshape(12))# provides a row array of 1 D"
   ]
  },
  {
   "cell_type": "markdown",
   "metadata": {},
   "source": [
    "### Transposing a vector or matrix"
   ]
  },
  {
   "cell_type": "code",
   "execution_count": 1,
   "metadata": {},
   "outputs": [
    {
     "name": "stdout",
     "output_type": "stream",
     "text": [
      "The original Matrix is :\n",
      " [[1 2 3]\n",
      " [3 4 5]\n",
      " [6 8 9]]\n",
      "\n",
      "The Transposed Matrix is :\n",
      " [[1 3 6]\n",
      " [2 4 8]\n",
      " [3 5 9]]\n",
      "\n"
     ]
    }
   ],
   "source": [
    "import numpy as np \n",
    "matr=np.array([[1,2,3],[3,4,5],[6,8,9]])\n",
    "print(\"The original Matrix is :\\n\", matr)\n",
    "print()\n",
    "print(\"The Transposed Matrix is :\\n\",matr.T)\n",
    "print()"
   ]
  },
  {
   "cell_type": "code",
   "execution_count": 2,
   "metadata": {},
   "outputs": [
    {
     "name": "stdout",
     "output_type": "stream",
     "text": [
      "[  0   2  12  36  80 150 252 392 576 810]\n"
     ]
    }
   ],
   "source": [
    "import numpy as np\n",
    "def numpysum(n):\n",
    "    a = np.arange(n) ** 2\n",
    "    b = np.arange(n) ** 3\n",
    "    c = a + b\n",
    "    return c\n",
    "print(numpysum(10))"
   ]
  },
  {
   "cell_type": "code",
   "execution_count": null,
   "metadata": {},
   "outputs": [],
   "source": [
    "import numpy as np\n",
    "myarray=np.mat([[1,2,3,4],[4,3,2,1]],dtype=np.int64)\n",
    "print(myarray)"
   ]
  },
  {
   "cell_type": "markdown",
   "metadata": {},
   "source": [
    "#### To create a np arrays using lists"
   ]
  },
  {
   "cell_type": "code",
   "execution_count": null,
   "metadata": {},
   "outputs": [],
   "source": [
    "import numpy as np\n",
    "alist=[\"a\",\"Ram\",8] # Define a list \n",
    "arr=np.array(alist) # conver a list to array\n",
    "print(arr)# print the array\n",
    "print(arr.dtype)# prints the data type for more information refer numpy documentation\n",
    "print(arr.ndim) # Provides the dimension of the array\n",
    "print(arr.shape)# if it is 1 D then you will just get the number of values as a tuple"
   ]
  },
  {
   "cell_type": "markdown",
   "metadata": {},
   "source": [
    "#### To create a Matrix"
   ]
  },
  {
   "cell_type": "code",
   "execution_count": null,
   "metadata": {},
   "outputs": [],
   "source": [
    "arr_l=[[[1,2,3],[4,5,6],[7,8,9]],[[1,1,1],[3,3,3],[2,1,5]]]# Define a list of values \n",
    "matr=np.array(arr_l) # convert it into matrix \n",
    "#print(arr_l)\n",
    "print(matr)# print matrix\n",
    "#matr\n",
    "print(matr.dtype)# print the data type of matrix\n",
    "#matr.dtype\n",
    "print(matr.ndim) # print the dimension of matrix\n",
    "#matr.ndim\n",
    "print(matr.shape) # print the shape of matrix\n",
    "#matr.shape"
   ]
  },
  {
   "cell_type": "code",
   "execution_count": null,
   "metadata": {},
   "outputs": [],
   "source": [
    "a_list=[[\"x\"],{\"name:Ram\"}] \n",
    "arr=np.array(a_list)\n",
    "print(arr.dtype)\n",
    "print(arr.shape)"
   ]
  },
  {
   "cell_type": "code",
   "execution_count": null,
   "metadata": {},
   "outputs": [],
   "source": [
    "import numpy as np \n",
    "arr6=np.random.randint(2,8,(2,4,7))\n",
    "print(arr6)"
   ]
  },
  {
   "cell_type": "markdown",
   "metadata": {},
   "source": [
    "**numpy.random.randn()** in Python\n",
    "\n",
    "**About:** numpy.random.randn(d0, d1, …, dn) : creates an array of specified shape and fills it with random values as per standard normal distribution.\n",
    "\n",
    "If positive arguments are provided, randn generates an array of shape (d0, d1, …, dn), filled with random floats sampled from a univariate “normal” (Gaussian) distribution of mean 0 and variance 1 (if any of the d_i are floats, they are first converted to integers by truncation). A single float randomly sampled from the distribution is returned if no argument is provided.\n"
   ]
  },
  {
   "cell_type": "code",
   "execution_count": 3,
   "metadata": {},
   "outputs": [
    {
     "name": "stdout",
     "output_type": "stream",
     "text": [
      "[-0.3451395  -0.71242982  0.74466962  1.28256678 -1.20647668  1.4477153 ]\n"
     ]
    }
   ],
   "source": [
    "import numpy as np \n",
    "arr7=np.random.randn(6)\n",
    "print(arr7)"
   ]
  },
  {
   "cell_type": "code",
   "execution_count": 4,
   "metadata": {},
   "outputs": [
    {
     "name": "stdout",
     "output_type": "stream",
     "text": [
      "[[ 0.17335107 -0.42103373]\n",
      " [ 0.0772516   0.1636836 ]\n",
      " [-0.34495371 -1.63530379]]\n"
     ]
    }
   ],
   "source": [
    "import numpy as np \n",
    "arr8 =np.random.randn(3,2)\n",
    "print(arr8)"
   ]
  },
  {
   "cell_type": "code",
   "execution_count": null,
   "metadata": {},
   "outputs": [],
   "source": [
    "import numpy as np \n",
    "arr9=np.random.randn(2,4,4)\n",
    "print(arr9)\n",
    "print()\n",
    "arr10=np.random.randn(2,4,4)*2+3\n",
    "print(arr10)"
   ]
  },
  {
   "cell_type": "code",
   "execution_count": 5,
   "metadata": {},
   "outputs": [
    {
     "name": "stdout",
     "output_type": "stream",
     "text": [
      "[0. 2. 3.]\n",
      "[0. 2. 3.]\n",
      "[1. 2. 3.]\n"
     ]
    }
   ],
   "source": [
    "a=np.array([1,2,3],float)\n",
    "b=a\n",
    "c=a.copy()\n",
    "a[0]=0\n",
    "print(a)\n",
    "print(b)\n",
    "print(c)"
   ]
  },
  {
   "cell_type": "code",
   "execution_count": 6,
   "metadata": {},
   "outputs": [
    {
     "name": "stdout",
     "output_type": "stream",
     "text": [
      "[1. 2. 3.]\n",
      "[0. 0. 0.]\n"
     ]
    }
   ],
   "source": [
    "import numpy as np \n",
    "b=np.array([1,2,3],float)\n",
    "print(b)\n",
    "b.fill(0)\n",
    "print(b)"
   ]
  },
  {
   "cell_type": "code",
   "execution_count": 7,
   "metadata": {},
   "outputs": [
    {
     "name": "stdout",
     "output_type": "stream",
     "text": [
      "[[0. 1. 2.]\n",
      " [3. 4. 5.]]\n"
     ]
    },
    {
     "data": {
      "text/plain": [
       "array([[0., 3.],\n",
       "       [1., 4.],\n",
       "       [2., 5.]])"
      ]
     },
     "execution_count": 7,
     "metadata": {},
     "output_type": "execute_result"
    }
   ],
   "source": [
    "a=np.array(range(6),float).reshape((2,3))\n",
    "print(a)\n",
    "a.transpose()"
   ]
  },
  {
   "cell_type": "markdown",
   "metadata": {},
   "source": [
    "### One-dimensional versions of multi-dimensional arrays can be generated with flatten:"
   ]
  },
  {
   "cell_type": "code",
   "execution_count": null,
   "metadata": {},
   "outputs": [],
   "source": [
    "b=np.array([[1,2,3],[4,5,6]],float)\n",
    "print(b)\n",
    "print(b.flatten())"
   ]
  },
  {
   "cell_type": "markdown",
   "metadata": {},
   "source": [
    "### Two or more arrays can be concatenated together using the concatenate function with a tuple of the arrays to be joined:"
   ]
  },
  {
   "cell_type": "code",
   "execution_count": 8,
   "metadata": {},
   "outputs": [
    {
     "data": {
      "text/plain": [
       "array([1., 2., 3., 4., 5., 6., 7., 8., 9.])"
      ]
     },
     "execution_count": 8,
     "metadata": {},
     "output_type": "execute_result"
    }
   ],
   "source": [
    "a=np.array([1,2],float)\n",
    "b=np.array([3,4,5,6],float)\n",
    "c=np.array([7,8,9],float)\n",
    "np.concatenate((a,b,c))"
   ]
  },
  {
   "cell_type": "code",
   "execution_count": 9,
   "metadata": {},
   "outputs": [
    {
     "name": "stdout",
     "output_type": "stream",
     "text": [
      "[[1. 2.]\n",
      " [3. 4.]\n",
      " [5. 6.]\n",
      " [8. 0.]]\n",
      "\n",
      "[[1. 2.]\n",
      " [3. 4.]\n",
      " [5. 6.]\n",
      " [8. 0.]]\n",
      "\n",
      "[[1. 2. 5. 6.]\n",
      " [3. 4. 8. 0.]]\n"
     ]
    }
   ],
   "source": [
    "a=np.array([[1,2],[3,4]],float)\n",
    "b=np.array([[5,6],[8,0]],float)\n",
    "print(np.concatenate((a,b)))\n",
    "print()\n",
    "print(np.concatenate((a,b),axis=0))\n",
    "print()\n",
    "print(np.concatenate((a,b),axis=1))"
   ]
  },
  {
   "cell_type": "markdown",
   "metadata": {},
   "source": [
    "### Finally, the dimensionality of an array can be increased using the newaxis constant in bracket notation:"
   ]
  },
  {
   "cell_type": "code",
   "execution_count": null,
   "metadata": {},
   "outputs": [],
   "source": [
    "a=np.array([1,2,3],float)\n",
    "print(a)\n",
    "print()\n",
    "print()\n",
    "print(a[:,np.newaxis])\n",
    "print()\n",
    "print()\n",
    "print(a[:,np.newaxis].shape)\n",
    "print()\n",
    "print()\n",
    "print(a[np.newaxis,:])\n",
    "print()\n",
    "print()\n",
    "print(a[np.newaxis,:].shape)"
   ]
  },
  {
   "cell_type": "code",
   "execution_count": null,
   "metadata": {},
   "outputs": [],
   "source": [
    "import numpy as np \n",
    "a=np.array((1,2,3))\n",
    "a"
   ]
  },
  {
   "cell_type": "code",
   "execution_count": null,
   "metadata": {},
   "outputs": [],
   "source": [
    "import numpy as np\n",
    "x=np.linspace(0,75,num=6,retstep=True)\n",
    "print(x)"
   ]
  },
  {
   "cell_type": "code",
   "execution_count": null,
   "metadata": {},
   "outputs": [],
   "source": [
    "6*60"
   ]
  },
  {
   "cell_type": "markdown",
   "metadata": {},
   "source": [
    "## TASK"
   ]
  },
  {
   "cell_type": "markdown",
   "metadata": {},
   "source": [
    "#### Which among the following will produce the same result as:\n",
    "1. np.linspace(1,10,10,dtype='int32')\n",
    "2. np.arange(1,11)\n",
    "3. np.random.randint(1,11)\n",
    "4. np.array(range(1,11))"
   ]
  },
  {
   "cell_type": "code",
   "execution_count": null,
   "metadata": {},
   "outputs": [],
   "source": [
    "print(np.linspace(1,10,10,dtype='int32'))\n",
    "print()\n",
    "print(np.arange(1,11))\n",
    "print()\n",
    "print(np.random.randint(1,11))\n",
    "print()\n",
    "print(np.array(range(1,11)))"
   ]
  },
  {
   "cell_type": "markdown",
   "metadata": {},
   "source": [
    "### Conversion and other function"
   ]
  },
  {
   "cell_type": "code",
   "execution_count": null,
   "metadata": {},
   "outputs": [],
   "source": [
    "#Converting a 1-D array to a 2-D array using reshape() \n",
    "#Returns an array containing the same data with a new shape.\n",
    "arr_co1=np.linspace(20,30,6,dtype='int32')\n",
    "print(arr_co1.reshape(6))#(2,3)\n",
    "print(arr_co1.reshape(2,3))#(2,3)\n",
    "print()\n",
    "print()\n",
    "x=np.random.randint(5,10,(2,3))\n",
    "print(x)\n",
    "print()\n",
    "y=x.reshape(3,2)\n",
    "print(y)"
   ]
  },
  {
   "cell_type": "code",
   "execution_count": null,
   "metadata": {},
   "outputs": [],
   "source": [
    "arr_co2=np.arange(20).reshape(2,10)\n",
    "#arr_co2=np.arange(1,21).reshape(2,10)\n",
    "print(arr_co2)\n",
    "print(arr_co2.max())#axis=None is default gives max value\n",
    "print(arr_co2.min())# gives min value\n",
    "print(arr_co2.argmax())# gives the value at which maximum value from the function is attend\n",
    "print(arr_co2.argmin())# gives the value at which minimum value from the function is attend"
   ]
  },
  {
   "cell_type": "code",
   "execution_count": null,
   "metadata": {},
   "outputs": [],
   "source": [
    "a=np.random.randint(10,100,(2,3))# Creates a 2 by 3 matrix of values between 10 and 1000\n",
    "print(a)\n",
    "print()\n",
    "print()\n",
    "print(a.max(axis=1))#axis=0/1(row)\n",
    "print()\n",
    "print()\n",
    "print(a.min(axis=0))# columnwise\n",
    "print()\n",
    "print()\n",
    "print(a.argmax(axis=1)) #\n",
    "print()\n",
    "print()\n",
    "print(a.argmax(axis=0))#"
   ]
  },
  {
   "cell_type": "markdown",
   "metadata": {},
   "source": [
    "### Practice Work"
   ]
  },
  {
   "cell_type": "markdown",
   "metadata": {},
   "source": [
    "### Write a NumPy program to test whether none of the elements of a given array is zero."
   ]
  },
  {
   "cell_type": "markdown",
   "metadata": {},
   "source": [
    "### Write a NumPy program to test if any of the elements of a given array is non-zero"
   ]
  },
  {
   "cell_type": "markdown",
   "metadata": {},
   "source": [
    "### Write a NumPy program to generate five random numbers from the normal distribution."
   ]
  },
  {
   "cell_type": "markdown",
   "metadata": {},
   "source": [
    "### Write a NumPy program to generate six random integers between 10 and 30."
   ]
  },
  {
   "cell_type": "markdown",
   "metadata": {},
   "source": [
    "### Write a NumPy program to get the numpy version and show numpy build configuration."
   ]
  },
  {
   "cell_type": "markdown",
   "metadata": {},
   "source": [
    "### Write a NumPy program to  get help on the add function."
   ]
  },
  {
   "cell_type": "markdown",
   "metadata": {},
   "source": [
    "### create Numpy Array\n",
    "\n",
    "To create a NumPy array we need to pass list of element values inside a square bracket as an argument to the np.array() function."
   ]
  },
  {
   "cell_type": "code",
   "execution_count": null,
   "metadata": {},
   "outputs": [],
   "source": [
    "### A 3d array is a matrix of 2d array. \n",
    "### A 3d array can also be called as a list of lists where every element is again a list of elements.\n",
    "\n",
    "import numpy as np \n",
    "ar1=np.array([1,2,3,4,5])\n",
    "ar2=np.array([[1,2,3],[4,5,6]])\n",
    "ar3=np.array([[[1,2,3],[4,5,6]],[[7,8,9],[10,11,12]]])\n",
    "print(ar1)\n",
    "print(\"-\"*10)\n",
    "print(ar2)\n",
    "print(\"-\"*10)\n",
    "print(ar3)"
   ]
  },
  {
   "cell_type": "markdown",
   "metadata": {},
   "source": [
    "**Shape:**\tA tuple that specifies the number of elements for each dimension of the array.<br>\n",
    "**Size:**\tThe total number elements in the array.<br>\n",
    "**Ndim:**\tDetermines the dimension an array.<br>\n",
    "**nbytes:**\tNumber of bytes used to store the data.<br>\n",
    "**dtype:**\tDetermines the datatype of elements stored in array.<br>"
   ]
  },
  {
   "cell_type": "markdown",
   "metadata": {},
   "source": [
    "Data Types Supported by NumPy\n",
    "The dtype method determines the datatype of elements stored in NumPy array. You can also explicitly define the data type using the dtype option as an argument of array function.\n",
    "\n",
    "dtype\t    |            Variants                |  Description\n",
    "------------|------------------------------------|-------------------------\n",
    "int\t        | int8, int16, int32, int64          |  Integers\n",
    "uint        | uint8, uint16, uint32, uint64\t     |  Unsigned (nonnegative) integers\n",
    "bool        | Bool\t                             |  Boolean (True or False)\n",
    "code>float  | float16, float32, float64, float128|  Floating-point numbers\n",
    "complex\t    | complex64, complex128, complex256  |  Complex-valued floating-point numbers"
   ]
  },
  {
   "cell_type": "markdown",
   "metadata": {},
   "source": [
    "# Numeric data manipulation, taublar dataframe and data visualization"
   ]
  },
  {
   "cell_type": "markdown",
   "metadata": {},
   "source": [
    "### Core features of numpy\n",
    "We will start by looking at the api to create arrays, delete array, access element of arrays, delete element of arrays.\n",
    "\n",
    "### Arrays creation\n",
    "Arrays can be created in different ways. Here are some examples:"
   ]
  },
  {
   "cell_type": "code",
   "execution_count": null,
   "metadata": {},
   "outputs": [],
   "source": [
    "# create an array from an existing list, tuple or generator\n",
    "l = [1, 2, 3]\n",
    "t = [4, 5, 6]\n",
    "g = range(7, 10)\n",
    "\n",
    "a = np.array(l); print(a)\n",
    "a = np.array(t); print(a)\n",
    "a = np.array(g); print(a)"
   ]
  },
  {
   "cell_type": "code",
   "execution_count": null,
   "metadata": {},
   "outputs": [],
   "source": [
    "%%writefile array_data.txt\n",
    "# this is a comment in the file\n",
    "x, y, z\n",
    "1, 2, 3\n",
    "1, 4, 5\n",
    "2, 3, 5"
   ]
  },
  {
   "cell_type": "code",
   "execution_count": null,
   "metadata": {},
   "outputs": [],
   "source": [
    "# read from txt file with comments and headers\n",
    "w = np.genfromtxt('array_data.txt',  # filename\n",
    "                        skip_header=2,  # number of rows to skip\n",
    "                        delimiter=',', #type of value separator\n",
    "                        unpack=True) # columns into single variables\n",
    "print('Data read from .txt file')\n",
    "print(x); print(y); print(z)"
   ]
  },
  {
   "cell_type": "code",
   "execution_count": null,
   "metadata": {},
   "outputs": [],
   "source": [
    "# generate array from a particular function\n",
    "a = np.arange(0, 1, 0.1) # from 0 to 1 with 0.1 steps\n",
    "# print(a)\n",
    "b = np.linspace(0, 5, 10) # from 0 to 5 such that there are 10 elements\n",
    "# print(b)\n",
    "c = np.empty(10) # 10 elements with random values inside\n",
    "# print(c)\n",
    "d = np.zeros(10) # 10 elements with 0s inside\n",
    "# print(d)\n",
    "e = np.full_like(d, 3) # array big like d but with 3 elements inside\n",
    "# print(e)\n",
    "f = np.random.random(10)  # array of random elements\n",
    "# print(f)"
   ]
  },
  {
   "cell_type": "markdown",
   "metadata": {},
   "source": [
    "## Accessing elements of arrays\n",
    "\n",
    "Accessing elements of array is similar to python syntax for lists but it can be extended to a more powerful behaviour"
   ]
  },
  {
   "cell_type": "code",
   "execution_count": null,
   "metadata": {},
   "outputs": [],
   "source": [
    "a = np.arange(5, 15)  # 10 elements from 5 to 15 excluded\n",
    "a"
   ]
  },
  {
   "cell_type": "code",
   "execution_count": null,
   "metadata": {},
   "outputs": [],
   "source": [
    "first = a[0]  # access the first element\n",
    "last = a[-1]  # access the last element\n",
    "slice1 = a[:4] # access element from 0 to 4 excluded (0, 1, 2, 3)\n",
    "slice2 = a[1:3] # access elements from 1 included to 3 excluded (1, 2)\n",
    "slice3 = a[-3:-1]  # access element from the third last included to the last exclued (-3, -2)\n",
    "slice4 = a[4:]  # access elements from 4 included until the end\n",
    "slice5 = a[1:8:2]  # access from 1 inclued to 8 excluded with steps of 2 (1, 3, 5, 7)\n",
    "slice6 = a[::3] # access every third element (0, 3, 6, 9)\n",
    "# bonus: reverse an array\n",
    "slice7 = a[::-1]"
   ]
  },
  {
   "cell_type": "code",
   "execution_count": null,
   "metadata": {},
   "outputs": [],
   "source": [
    "a"
   ]
  },
  {
   "cell_type": "code",
   "execution_count": null,
   "metadata": {},
   "outputs": [],
   "source": [
    "mask = a > 8\n",
    "mask"
   ]
  },
  {
   "cell_type": "code",
   "execution_count": null,
   "metadata": {},
   "outputs": [],
   "source": [
    "# more indexing methods\n",
    "submask = [1, 3, 7, 9] \n",
    "slice8 = a[submask]  # access the elements in the positions described by submask\n",
    "\n",
    "# boolean indexing.\n",
    "mask = a > 8  # mask is a variable of booleans\n",
    "print(mask)\n",
    "slice9 = a[mask]  # a boolean maks can be used to select only certain element\n",
    "slice10 = a[a > 8]  # alternative syntax\n",
    "\n",
    "print(slice9, slice10)"
   ]
  },
  {
   "cell_type": "markdown",
   "metadata": {},
   "source": [
    "## Some interesting numpy functions\n",
    "\n",
    "### Math functions\n",
    "numpy has a fairly big set of functions to for mathematical operations"
   ]
  },
  {
   "cell_type": "code",
   "execution_count": null,
   "metadata": {},
   "outputs": [],
   "source": [
    "# standard math functions, like mean, standard deviations, max, min, etc. \n",
    "# are all available\n",
    "a = np.array([10, 8, 9])\n",
    "print('Mean: ', np.mean(a))\n",
    "print('Standard deviation: ', np.std(a))\n",
    "print('Max: ', np.max(a))\n",
    "print('Min: ', np.min(a))\n",
    "print('Ix Max: ', np.argmax(a))\n",
    "print('Ix Min: ', np.argmin(a))"
   ]
  },
  {
   "cell_type": "markdown",
   "metadata": {},
   "source": [
    "### Inserting and deleting elements\n",
    "\n",
    "numpy are blocks of memory with a different layout than the list. For this reason it's not possible to append and element like a list, thoug similar functions are provided"
   ]
  },
  {
   "cell_type": "code",
   "execution_count": null,
   "metadata": {},
   "outputs": [],
   "source": [
    "a = np.array([1, 2, 3])\n",
    "\n",
    "b = np.append(a, 3); print(b) # insert the number 3 at the end\n",
    "c = np.insert(a, 2, 12); print(c)  # insert the value 12 at index 2\n",
    "d = np.delete(a, 1); print(d) # delete the value at index 1"
   ]
  },
  {
   "cell_type": "markdown",
   "metadata": {},
   "source": [
    "## Vectorization and broadcasting\n",
    "\n",
    "These following two concepts are probably the most powerful concepts used in numpy. Sometimes they're used without we notice it. Let's consider the following examples"
   ]
  },
  {
   "cell_type": "code",
   "execution_count": null,
   "metadata": {},
   "outputs": [],
   "source": [
    "a = np.array([1, 2, 3])\n",
    "\n",
    "# I want the square of each element: there is the dedicated function\n",
    "print(np.square(a))\n",
    "# I want each element to the power of 6 for example:\n",
    "print(np.power(a, 6)); print(a ** 6)\n",
    "# I want to divide each element by 3\n",
    "print(a / 3)\n",
    "# I want to subtract 2 from each element\n",
    "print(a - 2)"
   ]
  },
  {
   "cell_type": "markdown",
   "metadata": {},
   "source": [
    "The operations between an array/vector and a scalar value are possible because numpy can smartly understand the dimension of both variables and apply the operator to each value of the first element using the value of the second."
   ]
  },
  {
   "cell_type": "code",
   "execution_count": null,
   "metadata": {},
   "outputs": [],
   "source": [
    "x = np.array([1, 1, 3])\n",
    "y = np.array([2, 3, 3])\n",
    "\n",
    "# I  want to mulitply each element of x by the correspndding element of y\n",
    "print(x * y)"
   ]
  },
  {
   "cell_type": "markdown",
   "metadata": {},
   "source": [
    "So if there are two array with the same dimension (1d in this case) the operation are applied element-wise. If there is a 1d array and a scalar then the scalr is applied to each element of the array."
   ]
  },
  {
   "cell_type": "markdown",
   "metadata": {},
   "source": [
    "## Multi dimensional array\n",
    "\n",
    "Sometimes we want to work with n-dimensional arrays. Let's see some examples"
   ]
  },
  {
   "cell_type": "code",
   "execution_count": null,
   "metadata": {},
   "outputs": [],
   "source": [
    "# Create a 2d array 2x2 of random elements\n",
    "m = np.random.random((2, 2))\n",
    "m"
   ]
  },
  {
   "cell_type": "code",
   "execution_count": null,
   "metadata": {},
   "outputs": [],
   "source": [
    "# create a 4x6 array of elements from 1 to 24\n",
    "m = np.arange(1, 25)\n",
    "print(m)\n",
    "m = m.reshape((4, 6))\n",
    "m"
   ]
  },
  {
   "cell_type": "code",
   "execution_count": null,
   "metadata": {},
   "outputs": [],
   "source": [
    "# example of error: 25 elements are not divisible by 4 so \n",
    "# I can't create a matrix of 4 rows\n",
    "m = np.arange(0, 25)\n",
    "m = m.reshape((4, 6))"
   ]
  },
  {
   "cell_type": "code",
   "execution_count": null,
   "metadata": {},
   "outputs": [],
   "source": [
    "# sometimes we only need to reshape an array knowing the number of rows \n",
    "# but we don't know the number od columns (or viceversa). In this case\n",
    "# we can use -1 in the reshape function\n",
    "m = np.arange(0, 60)\n",
    "reshape1 = m.reshape((-1, 2)) # it will create a 30x2\n",
    "reshape2 = m.reshape((2, -1)) # it will create a 2x30\n",
    "reshape3 = m.reshape((2, 6, -1)) # it will create a 2x6x5\n",
    "print(reshape3)"
   ]
  },
  {
   "cell_type": "markdown",
   "metadata": {},
   "source": [
    "## The axis arguments\n",
    "\n",
    "some numpy functions accepts an `axis` argument. This is used in multidimensional array to apply the operation over a particular axis. Let's see a simple example:\n",
    "\n",
    "**School grades**\n",
    "There three students attending the physics class. Their marks over time are saved into a simple .txt file"
   ]
  },
  {
   "cell_type": "code",
   "execution_count": null,
   "metadata": {},
   "outputs": [],
   "source": [
    "%%writefile school_grades.txt\n",
    "tizio, caio, sempronio\n",
    "9, 9, 10\n",
    "8, 6, 9\n",
    "10, 9, 9\n",
    "7, 7, 8"
   ]
  },
  {
   "cell_type": "code",
   "execution_count": null,
   "metadata": {},
   "outputs": [],
   "source": [
    "# read the data into a single array\n",
    "grades = np.genfromtxt('school_grades.txt', skip_header=1, delimiter=',')\n",
    "grades"
   ]
  },
  {
   "cell_type": "code",
   "execution_count": null,
   "metadata": {},
   "outputs": [],
   "source": [
    "# the shape of the array is \n",
    "grades.shape"
   ]
  },
  {
   "cell_type": "code",
   "execution_count": null,
   "metadata": {},
   "outputs": [],
   "source": [
    "# I want the global average mark for each student\n",
    "mean_marks_per_student = np.mean(grades, axis=0)\n",
    "mean_marks_per_student"
   ]
  },
  {
   "cell_type": "code",
   "execution_count": null,
   "metadata": {},
   "outputs": [],
   "source": [
    "# I want the average mark between the students for each test\n",
    "mean_marks_per_test = np.mean(grades, axis=1)\n",
    "mean_marks_per_test"
   ]
  },
  {
   "cell_type": "markdown",
   "metadata": {},
   "source": [
    "So the array has a *4* rows and *3* columns. The shape can be accessed by the attribute `grades.shape` and returns a tuple `(nrows, ncolumns)`. The axis argument can be used to apply a function over an axis and it works this way:\n",
    "\n",
    "* If the axis is 0 it will collpase the axis at the 0-th position in the shape of the array. This means from `(nrows, ncolumns)` -> `(ncolumns)`\n",
    "* If the axis is 1 it will collapse the axis at the 1-st position in the shape of the array. This means that `(nrows, ncolumns)` -> `(nrows)`\n",
    "* In general if we have an array of the shape `(s1, s2, s3, ...)` the axis is an integer number (or a tuple) from 0 to `ndim-1`. The number specified in the `axis` arguments will be the dimensions the will collapse.\n",
    "\n",
    "```\n",
    "a = np.array([...])\n",
    "a.shape = (s1, s2, s3, s4)\n",
    "           0,  1,  2,  3\n",
    "           \n",
    "np.mean(a, axis=0) -> (s2, s3, s4)\n",
    "np.mean(a, axis=(0, 1)) -> (s3, s4)\n",
    "np.mean(a, axis=3) -> (s1, s2, s3)\n",
    "```"
   ]
  },
  {
   "cell_type": "code",
   "execution_count": null,
   "metadata": {},
   "outputs": [],
   "source": [
    "a = np.random.random(420)\n",
    "print(a.shape)\n",
    "a = a.reshape((2, 3, 2, 5, 7))\n",
    "#              0, 1, 2, 3, 4\n",
    "print(a.shape)\n",
    "\n",
    "print(a.mean(axis=1).shape) # 0, 2, 3, 4\n",
    "print(a.mean(axis=0).shape) # 1, 2, 3, 4\n",
    "print(a.mean(axis=(2, 3)).shape) # 0, 1, 4\n",
    "print(a.mean(axis=-1).shape) # 0, 1, 2, 3"
   ]
  },
  {
   "cell_type": "markdown",
   "metadata": {},
   "source": [
    "<h1 style=\"color:green\" align='center'>Numpy tutorial: iterate numpy array using nditer</h1>"
   ]
  },
  {
   "cell_type": "code",
   "execution_count": null,
   "metadata": {},
   "outputs": [],
   "source": [
    "import numpy as np"
   ]
  },
  {
   "cell_type": "code",
   "execution_count": null,
   "metadata": {},
   "outputs": [],
   "source": [
    "a = np.arange(12).reshape(3,4)\n",
    "a"
   ]
  },
  {
   "cell_type": "markdown",
   "metadata": {},
   "source": [
    "<h3 style=\"color:purple\">Using normal for loop iteration</h3>"
   ]
  },
  {
   "cell_type": "code",
   "execution_count": null,
   "metadata": {},
   "outputs": [],
   "source": [
    "for row in a:\n",
    "    for cell in row:\n",
    "        print(cell)"
   ]
  },
  {
   "cell_type": "markdown",
   "metadata": {},
   "source": [
    "<h3 style=\"color:purple\">For loop with flatten</h3>"
   ]
  },
  {
   "cell_type": "code",
   "execution_count": null,
   "metadata": {},
   "outputs": [],
   "source": [
    "for cell in a.flatten():\n",
    "    print(cell)"
   ]
  },
  {
   "cell_type": "markdown",
   "metadata": {},
   "source": [
    "<h1 style=\"color:blue\" align=\"center\">nditer</h1>"
   ]
  },
  {
   "cell_type": "code",
   "execution_count": null,
   "metadata": {},
   "outputs": [],
   "source": [
    "for x in np.nditer(a, order='C'):\n",
    "    print(x)"
   ]
  },
  {
   "cell_type": "markdown",
   "metadata": {},
   "source": [
    "<h2 style=\"color:purple\">Fortan style ordering</h2>"
   ]
  },
  {
   "cell_type": "code",
   "execution_count": null,
   "metadata": {},
   "outputs": [],
   "source": [
    "for x in np.nditer(a, order='F'):\n",
    "    print(x)"
   ]
  },
  {
   "cell_type": "markdown",
   "metadata": {},
   "source": [
    "<h3 style=\"color:purple\">external_loop</h3>"
   ]
  },
  {
   "cell_type": "code",
   "execution_count": null,
   "metadata": {},
   "outputs": [],
   "source": [
    "for x in np.nditer(a, flags=['external_loop'],order='F'):\n",
    "    print(x)"
   ]
  },
  {
   "cell_type": "markdown",
   "metadata": {},
   "source": [
    "<h2 style=\"color:purple\">Modify array values while iterating</h2>"
   ]
  },
  {
   "cell_type": "code",
   "execution_count": null,
   "metadata": {},
   "outputs": [],
   "source": [
    "for x in np.nditer(a, op_flags=['readwrite']):\n",
    "    x[...] = x * x"
   ]
  },
  {
   "cell_type": "code",
   "execution_count": null,
   "metadata": {},
   "outputs": [],
   "source": [
    "a"
   ]
  },
  {
   "cell_type": "markdown",
   "metadata": {},
   "source": [
    "<h2 style=\"color:purple\">Iterate two broadcastable arrays concurrently</h2>"
   ]
  },
  {
   "cell_type": "code",
   "execution_count": null,
   "metadata": {},
   "outputs": [],
   "source": [
    "b = np.arange(3, 15, 4).reshape(3,1)\n",
    "b"
   ]
  },
  {
   "cell_type": "code",
   "execution_count": null,
   "metadata": {},
   "outputs": [],
   "source": [
    "for x, y in np.nditer([a,b]):\n",
    "    print (x,y)"
   ]
  },
  {
   "cell_type": "markdown",
   "metadata": {},
   "source": [
    "### tutorial"
   ]
  },
  {
   "cell_type": "code",
   "execution_count": null,
   "metadata": {},
   "outputs": [],
   "source": [
    "import numpy as np\n",
    "\n",
    "a=np.array([[1,2,3],[4,5,6]])\n"
   ]
  },
  {
   "cell_type": "code",
   "execution_count": null,
   "metadata": {},
   "outputs": [],
   "source": [
    "import numpy as np\n",
    "import time\n",
    "import sys\n",
    "SIZE = 1000000\n",
    "l1 = range(SIZE)\n",
    "l2 = range(SIZE)\n",
    "a1=np.arange(SIZE)\n",
    "a2=np.arange(SIZE)\n",
    "\n",
    "# python list\n",
    "start = time.time()\n",
    "result = [(x+y) for x,y in zip(l1,l2)]\n",
    "print(\"python list took: \",(time.time()-start)*1000)\n",
    "# numpy array\n",
    "start= time.time()\n",
    "result = a1 + a2\n",
    "print(\"numpy took: \", (time.time()-start)*1000)"
   ]
  },
  {
   "cell_type": "markdown",
   "metadata": {},
   "source": [
    "# Linear algebra with Numpy\n",
    "\n",
    "It is possible to do symbolic linear algebrea with [Sympy](http://www.sympy.org/en/index.html) but for numeric computations [Numpy](http://www.numpy.org/) is a high performance library that should be used. \n",
    "\n",
    "Here is how it is described: \n",
    "\n",
    "> NumPy is the fundamental package for scientific computing with Python. It contains among other things: [...]\n",
    " useful linear algebra, Fourier transform, and random number capabilities.\n",
    "\n",
    "In this section we will see how to:\n",
    "\n",
    "- Manipulate matrices;\n",
    "- Solve Matrix equations;\n",
    "- Calculate Matrix inverse and determinants.\n",
    "\n",
    "## Manipulating matrices\n",
    "\n",
    "It is straightforward to create a Matrix using Numpy. Let us consider the following as a examples:\n",
    "\n",
    "$$\n",
    "A = \\begin{pmatrix}\n",
    "5 & 6 & 2\\\\\n",
    "4 & 7 & 19\\\\\n",
    "0 & 3 & 12\n",
    "\\end{pmatrix}\n",
    "$$\n",
    "\n",
    "$$\n",
    "B = \\begin{pmatrix}\n",
    "14 & -2 & 12\\\\\n",
    "4 & 4 & 5\\\\\n",
    "5 & 5 & 1\n",
    "\\end{pmatrix}\n",
    "$$\n",
    "\n",
    "\n",
    "First, similarly to Sympy, we need to import Numpy:"
   ]
  },
  {
   "cell_type": "code",
   "execution_count": null,
   "metadata": {},
   "outputs": [],
   "source": [
    "import numpy as np"
   ]
  },
  {
   "cell_type": "markdown",
   "metadata": {},
   "source": [
    "Now we can define A:"
   ]
  },
  {
   "cell_type": "code",
   "execution_count": null,
   "metadata": {},
   "outputs": [],
   "source": [
    "A = np.matrix([[5, 6, 2],\n",
    "               [4, 7, 19],\n",
    "               [0, 3, 12]])\n",
    "A"
   ]
  },
  {
   "cell_type": "code",
   "execution_count": null,
   "metadata": {},
   "outputs": [],
   "source": [
    "B = np.matrix([[14, -2, 12],\n",
    "               [4, 4, 5],\n",
    "               [5, 5, 1]])\n",
    "B"
   ]
  },
  {
   "cell_type": "markdown",
   "metadata": {},
   "source": [
    "We can obtain the following straightforwardly:\n",
    "\n",
    "- **5A** (or any other scalar multiple of **A**);\n",
    "- **A ^ 3** (or any other exponent of **A**);\n",
    "- **A + B**;\n",
    "- **A - B**;\n",
    "- **AB**"
   ]
  },
  {
   "cell_type": "code",
   "execution_count": null,
   "metadata": {},
   "outputs": [],
   "source": [
    "5 * A"
   ]
  },
  {
   "cell_type": "code",
   "execution_count": null,
   "metadata": {},
   "outputs": [],
   "source": [
    "A ** 3"
   ]
  },
  {
   "cell_type": "code",
   "execution_count": null,
   "metadata": {},
   "outputs": [],
   "source": [
    "A + B"
   ]
  },
  {
   "cell_type": "code",
   "execution_count": null,
   "metadata": {},
   "outputs": [],
   "source": [
    "A - B"
   ]
  },
  {
   "cell_type": "code",
   "execution_count": null,
   "metadata": {},
   "outputs": [],
   "source": [
    "A * B"
   ]
  },
  {
   "cell_type": "markdown",
   "metadata": {},
   "source": [
    "---\n",
    "\n",
    "**EXERCISE** Compute $A ^ 2 - 2 A + 3$ with:\n",
    "\n",
    "$$A = \n",
    "\\begin{pmatrix}\n",
    "1 & -1\\\\\n",
    "2 & 1\n",
    "\\end{pmatrix}\n",
    "$$\n",
    "\n",
    "---\n",
    "\n",
    "## Solving Matrix equations\n",
    "\n",
    "We can use Numpy to (efficiently) solve large systems of equations of the form:\n",
    "\n",
    "$$Ax=b$$\n",
    "\n",
    "Let us illustrate that with:\n",
    "\n",
    "$$\n",
    "A = \\begin{pmatrix}\n",
    "5 & 6 & 2\\\\\n",
    "4 & 7 & 19\\\\\n",
    "0 & 3 & 12\n",
    "\\end{pmatrix}\n",
    "$$\n",
    "\n",
    "$$\n",
    "b = \\begin{pmatrix}\n",
    "-1\\\\\n",
    "2\\\\\n",
    "1 \n",
    "\\end{pmatrix}\n",
    "$$"
   ]
  },
  {
   "cell_type": "code",
   "execution_count": null,
   "metadata": {},
   "outputs": [],
   "source": [
    "A = np.matrix([[5, 6, 2],\n",
    "               [4, 7, 19],\n",
    "               [0, 3, 12]])\n",
    "b = np.matrix([[-1], [2], [1]])"
   ]
  },
  {
   "cell_type": "markdown",
   "metadata": {},
   "source": [
    "We use the `linalg.solve` command:"
   ]
  },
  {
   "cell_type": "code",
   "execution_count": null,
   "metadata": {},
   "outputs": [],
   "source": [
    "x = np.linalg.solve(A, b)\n",
    "x"
   ]
  },
  {
   "cell_type": "markdown",
   "metadata": {},
   "source": [
    "We can verify our result:"
   ]
  },
  {
   "cell_type": "code",
   "execution_count": null,
   "metadata": {},
   "outputs": [],
   "source": [
    "A * x"
   ]
  },
  {
   "cell_type": "markdown",
   "metadata": {},
   "source": [
    "---\n",
    "\n",
    "**EXERCISE** Compute the solutions to the matrix equation $Bx=b$ (using the $B$ defined earlier).\n",
    "\n",
    "---\n",
    "\n",
    "## Matrix inversion and determinants\n",
    "\n",
    "Computing the inverse of a matrix is straightforward:"
   ]
  },
  {
   "cell_type": "code",
   "execution_count": null,
   "metadata": {},
   "outputs": [],
   "source": [
    "Ainv = np.linalg.inv(A)\n",
    "Ainv"
   ]
  },
  {
   "cell_type": "markdown",
   "metadata": {},
   "source": [
    "We can verify that $A^{-1}A=\\mathbb{1}$:"
   ]
  },
  {
   "cell_type": "code",
   "execution_count": null,
   "metadata": {},
   "outputs": [],
   "source": [
    "A * Ainv"
   ]
  },
  {
   "cell_type": "markdown",
   "metadata": {},
   "source": [
    "The above might not look like the identity matrix but if you look closer you see that the diagonals are all `1` and the off diagonals are a **very** small number (which from a computer's point of view is `0`)."
   ]
  },
  {
   "cell_type": "markdown",
   "metadata": {},
   "source": [
    "To calculate the determinant:"
   ]
  },
  {
   "cell_type": "code",
   "execution_count": null,
   "metadata": {},
   "outputs": [],
   "source": [
    "np.linalg.det(A)"
   ]
  },
  {
   "cell_type": "markdown",
   "metadata": {},
   "source": [
    "---\n",
    "\n",
    "**EXERCISE** Compute the inverse and determinant of $B$ (defined previously).\n",
    "\n",
    "---\n",
    "\n",
    "## Summary\n",
    "\n",
    "In this section we have seen how to using Numpy:\n",
    "\n",
    "- Manipulate matrices;\n",
    "- Solve linear systems;\n",
    "- Compute Matrix inverses and determinants.\n",
    "\n",
    "This again just touches on the capabilities of Numpy.\n",
    "\n",
    "Let us take a look at [Pandas](03 - Data analysis with Pandas.ipynb) for data analysis."
   ]
  },
  {
   "cell_type": "markdown",
   "metadata": {},
   "source": [
    "## Source(s): \n",
    "* https://numpy.org/devdocs/user/quickstart.html\n",
    "* https://www.tutorialspoint.com/numpy/index.htm"
   ]
  }
 ],
 "metadata": {
  "kernelspec": {
   "display_name": "Python 3",
   "language": "python",
   "name": "python3"
  },
  "language_info": {
   "codemirror_mode": {
    "name": "ipython",
    "version": 3
   },
   "file_extension": ".py",
   "mimetype": "text/x-python",
   "name": "python",
   "nbconvert_exporter": "python",
   "pygments_lexer": "ipython3",
   "version": "3.7.3"
  }
 },
 "nbformat": 4,
 "nbformat_minor": 2
}
